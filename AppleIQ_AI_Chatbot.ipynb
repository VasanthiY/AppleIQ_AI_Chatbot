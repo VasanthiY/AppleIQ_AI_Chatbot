{
 "cells": [
  {
   "cell_type": "markdown",
   "metadata": {
    "id": "ji09xLvKqBBd"
   },
   "source": [
    "<p> ################################################################## </p>\n",
    "<p>#&nbsp;&nbsp;&nbsp;&nbsp;&nbsp;&nbsp;&nbsp;&nbsp;&nbsp;&nbsp;&nbsp;&nbsp;&nbsp;&nbsp;&nbsp;&nbsp;&nbsp;&nbsp;&nbsp;&nbsp;&nbsp;&nbsp;&nbsp;&nbsp;&nbsp;&nbsp;&nbsp;&nbsp;&nbsp;&nbsp;&nbsp;&nbsp;&nbsp;&nbsp;&nbsp;&nbsp;&nbsp;&nbsp;&nbsp;&nbsp;&nbsp;&nbsp;&nbsp;&nbsp;&nbsp;&nbsp;&nbsp;&nbsp;&nbsp;&nbsp;&nbsp;&nbsp;&nbsp;&nbsp;&nbsp;&nbsp;&nbsp;&nbsp;&nbsp;&nbsp;&nbsp;&nbsp;&nbsp;&nbsp;&nbsp;&nbsp;&nbsp;&nbsp;&nbsp;&nbsp;&nbsp;&nbsp;&nbsp;&nbsp;&nbsp;&nbsp;&nbsp;&nbsp;&nbsp;&nbsp;&nbsp;&nbsp;&nbsp;&nbsp;&nbsp;&nbsp;&nbsp;&nbsp;&nbsp;&nbsp;&nbsp;&nbsp;&nbsp;&nbsp;&nbsp;&nbsp;&nbsp;&nbsp;&nbsp;&nbsp;&nbsp;&nbsp;&nbsp;&nbsp;&nbsp;&nbsp;&nbsp;&nbsp;&nbsp;&nbsp;&nbsp;&nbsp;&nbsp;&nbsp;&nbsp;&nbsp;&nbsp;&nbsp;&nbsp;&nbsp;&nbsp;&nbsp;&nbsp;&nbsp;&nbsp;&nbsp;&nbsp;&nbsp;&nbsp;&nbsp;&nbsp;&nbsp;&nbsp;&nbsp;&nbsp;&nbsp;&nbsp;&nbsp;&nbsp;&nbsp;&nbsp;&nbsp;&nbsp;&nbsp;&nbsp;&nbsp;&nbsp;&nbsp;&nbsp;&nbsp;&nbsp;&nbsp;&nbsp;&nbsp;&nbsp;&nbsp;&nbsp;&nbsp;&nbsp;#\n",
    "<p> # This source code is adopted from Tomaz and modified for Apple Website chatbot application  &nbsp; #</p>\n",
    "<p>#&nbsp;&nbsp;&nbsp;&nbsp;&nbsp;&nbsp;&nbsp;&nbsp;&nbsp;&nbsp;&nbsp;&nbsp;&nbsp;&nbsp;&nbsp;&nbsp;&nbsp;&nbsp;&nbsp;&nbsp;&nbsp;&nbsp;&nbsp;&nbsp;&nbsp;&nbsp;&nbsp;&nbsp;&nbsp;&nbsp;&nbsp;&nbsp;&nbsp;&nbsp;&nbsp;&nbsp;&nbsp;&nbsp;&nbsp;&nbsp;&nbsp;&nbsp;&nbsp;&nbsp;&nbsp;&nbsp;&nbsp;&nbsp;&nbsp;&nbsp;&nbsp;&nbsp;&nbsp;&nbsp;&nbsp;&nbsp;&nbsp;&nbsp;&nbsp;&nbsp;&nbsp;&nbsp;&nbsp;&nbsp;&nbsp;&nbsp;&nbsp;&nbsp;&nbsp;&nbsp;&nbsp;&nbsp;&nbsp;&nbsp;&nbsp;&nbsp;&nbsp;&nbsp;&nbsp;&nbsp;&nbsp;&nbsp;&nbsp;&nbsp;&nbsp;&nbsp;&nbsp;&nbsp;&nbsp;&nbsp;&nbsp;&nbsp;&nbsp;&nbsp;&nbsp;&nbsp;&nbsp;&nbsp;&nbsp;&nbsp;&nbsp;&nbsp;&nbsp;&nbsp;&nbsp;&nbsp;&nbsp;&nbsp;&nbsp;&nbsp;&nbsp;&nbsp;&nbsp;&nbsp;&nbsp;&nbsp;&nbsp;&nbsp;&nbsp;&nbsp;&nbsp;&nbsp;&nbsp;&nbsp;&nbsp;&nbsp;&nbsp;&nbsp;&nbsp;&nbsp;&nbsp;&nbsp;&nbsp;&nbsp;&nbsp;&nbsp;&nbsp;&nbsp;&nbsp;&nbsp;&nbsp;&nbsp;&nbsp;&nbsp;&nbsp;&nbsp;&nbsp;&nbsp;&nbsp;&nbsp;&nbsp;&nbsp;&nbsp;&nbsp;&nbsp;&nbsp;&nbsp;&nbsp;&nbsp;#\n",
    "<p></p>\n",
    "<p></p>\n",
    "<p> ################################################################## </p>\n",
    "\n"
   ]
  },
  {
   "cell_type": "markdown",
   "metadata": {
    "id": "zqgaHIIWAv0E"
   },
   "source": []
  },
  {
   "cell_type": "code",
   "execution_count": null,
   "metadata": {
    "colab": {
     "base_uri": "https://localhost:8080/"
    },
    "id": "y8W6QNR3xzEO",
    "outputId": "90d4d704-7f2e-4d52-de39-3113d032dc55"
   },
   "outputs": [
    {
     "name": "stdout",
     "output_type": "stream",
     "text": [
      "Drive already mounted at /content/gdrive; to attempt to forcibly remount, call drive.mount(\"/content/gdrive\", force_remount=True).\n",
      "[Errno 2] No such file or directory: 'gdrive/My Drive'\n",
      "/content/gdrive/My Drive\n"
     ]
    }
   ],
   "source": [
    "from google.colab import drive\n",
    "\n",
    "drive.mount('/content/gdrive')\n",
    "\n",
    "%cd gdrive/My Drive"
   ]
  },
  {
   "cell_type": "markdown",
   "metadata": {
    "id": "_5jQBSpUA1YJ"
   },
   "source": [
    "Requirements:\n",
    "\n",
    "1. **LangChain**: A framework for developing applications powered by language models.\n",
    "2. **LangChain-Community**: A collaborative space for sharing resources, tools, and discussions related to LangChain.\n",
    "3. **LangChain-OpenAI**: A LangChain extension providing integration with OpenAI's language models.\n",
    "4. **LangChain-Experimental**: A repository for experimental features and prototypes within the LangChain ecosystem.\n",
    "5. **Neo4j**: A graph database management system designed for handling and querying connected data.\n",
    "6. **tiktoken**: A library for tokenizing text, commonly used with language models to preprocess input and output.\n",
    "7. **yfiles_jupyter_graphs**: A library for creating and visualizing graphs and network diagrams in Jupyter notebooks.\n",
    "8. **Streamlit**: An open-source framework for building interactive, web-based applications using Python.\n",
    "9. **Localtunnel**: A tool that allows you to expose your local web server to the internet via a secure tunnel.\n",
    "10. **CTransformers** : A python wrapper for transfomer based models with essential configurations."
   ]
  },
  {
   "cell_type": "code",
   "execution_count": null,
   "metadata": {
    "id": "_e8mFtjUpsf-"
   },
   "outputs": [],
   "source": [
    "%pip install --upgrade --quiet  langchain langchain-community langchain-openai langchain-experimental neo4j tiktoken yfiles_jupyter_graphs streamlit"
   ]
  },
  {
   "cell_type": "code",
   "execution_count": null,
   "metadata": {
    "colab": {
     "base_uri": "https://localhost:8080/"
    },
    "id": "uFTCrVRKSfls",
    "outputId": "cff0497e-2792-4bc0-946c-ce410ab33ea7"
   },
   "outputs": [
    {
     "name": "stdout",
     "output_type": "stream",
     "text": [
      "Requirement already satisfied: ctransformers in /usr/local/lib/python3.10/dist-packages (0.2.27)\n",
      "Requirement already satisfied: huggingface-hub in /usr/local/lib/python3.10/dist-packages (from ctransformers) (0.26.2)\n",
      "Requirement already satisfied: py-cpuinfo<10.0.0,>=9.0.0 in /usr/local/lib/python3.10/dist-packages (from ctransformers) (9.0.0)\n",
      "Requirement already satisfied: filelock in /usr/local/lib/python3.10/dist-packages (from huggingface-hub->ctransformers) (3.16.1)\n",
      "Requirement already satisfied: fsspec>=2023.5.0 in /usr/local/lib/python3.10/dist-packages (from huggingface-hub->ctransformers) (2024.10.0)\n",
      "Requirement already satisfied: packaging>=20.9 in /usr/local/lib/python3.10/dist-packages (from huggingface-hub->ctransformers) (24.2)\n",
      "Requirement already satisfied: pyyaml>=5.1 in /usr/local/lib/python3.10/dist-packages (from huggingface-hub->ctransformers) (6.0.2)\n",
      "Requirement already satisfied: requests in /usr/local/lib/python3.10/dist-packages (from huggingface-hub->ctransformers) (2.32.3)\n",
      "Requirement already satisfied: tqdm>=4.42.1 in /usr/local/lib/python3.10/dist-packages (from huggingface-hub->ctransformers) (4.66.6)\n",
      "Requirement already satisfied: typing-extensions>=3.7.4.3 in /usr/local/lib/python3.10/dist-packages (from huggingface-hub->ctransformers) (4.12.2)\n",
      "Requirement already satisfied: charset-normalizer<4,>=2 in /usr/local/lib/python3.10/dist-packages (from requests->huggingface-hub->ctransformers) (3.4.0)\n",
      "Requirement already satisfied: idna<4,>=2.5 in /usr/local/lib/python3.10/dist-packages (from requests->huggingface-hub->ctransformers) (3.10)\n",
      "Requirement already satisfied: urllib3<3,>=1.21.1 in /usr/local/lib/python3.10/dist-packages (from requests->huggingface-hub->ctransformers) (2.2.3)\n",
      "Requirement already satisfied: certifi>=2017.4.17 in /usr/local/lib/python3.10/dist-packages (from requests->huggingface-hub->ctransformers) (2024.8.30)\n"
     ]
    }
   ],
   "source": [
    "pip install ctransformers"
   ]
  },
  {
   "cell_type": "code",
   "execution_count": null,
   "metadata": {
    "colab": {
     "base_uri": "https://localhost:8080/"
    },
    "id": "EKRc3oenyXvO",
    "outputId": "8d71c59c-0ffa-4d8b-8c34-321681941af1"
   },
   "outputs": [
    {
     "name": "stdout",
     "output_type": "stream",
     "text": [
      "\u001b[1G\u001b[0K⠙\u001b[1G\u001b[0K⠹\u001b[1G\u001b[0K⠸\u001b[1G\u001b[0K⠼\u001b[1G\u001b[0K⠴\u001b[1G\u001b[0K⠦\u001b[1G\u001b[0K⠧\u001b[1G\u001b[0K⠇\u001b[1G\u001b[0K\n",
      "up to date, audited 23 packages in 2s\n",
      "\u001b[1G\u001b[0K⠏\u001b[1G\u001b[0K\n",
      "\u001b[1G\u001b[0K⠏\u001b[1G\u001b[0K3 packages are looking for funding\n",
      "\u001b[1G\u001b[0K⠏\u001b[1G\u001b[0K  run `npm fund` for details\n",
      "\u001b[1G\u001b[0K⠏\u001b[1G\u001b[0K\n",
      "2 \u001b[33m\u001b[1mmoderate\u001b[22m\u001b[39m severity vulnerabilities\n",
      "\n",
      "To address all issues (including breaking changes), run:\n",
      "  npm audit fix --force\n",
      "\n",
      "Run `npm audit` for details.\n",
      "\u001b[1G\u001b[0K⠏\u001b[1G\u001b[0K"
     ]
    }
   ],
   "source": [
    "!npm install localtunnel"
   ]
  },
  {
   "cell_type": "markdown",
   "metadata": {
    "id": "LQtND_fzFRNI"
   },
   "source": [
    "The provided code imports several components from different libraries, each serving a specific purpose. The `RunnableBranch`, `RunnableLambda`, `RunnableParallel`, and `RunnablePassthrough` from LangChain Core are utilities for creating complex workflows involving branching logic, function definitions, parallel execution, and straightforward data passing. For crafting prompts, `ChatPromptTemplate` and `PromptTemplate` are used to design structured inputs for language models.\n",
    "\n",
    "The `BaseModel` and `Field` from Pydantic assist in data validation and configuration, while typing utilities like `Tuple`, `List`, and `Optional` are used for type hinting in Python code. The message classes `AIMessage` and `HumanMessage` define interactions between an AI and a user. The `StrOutputParser` is employed for converting outputs into string format.\n",
    "\n",
    "The `os` module provides a way to interact with the operating system, and `Neo4jGraph` facilitates working with Neo4j databases. `TokenTextSplitter` helps in breaking down text into manageable tokens, essential for language processing. `ChatOpenAI` enables communication with OpenAI's chat models, and `LLMGraphTransformer` is used for transforming graph data with language models. For database interaction, `GraphDatabase` connects with Neo4j, and `GraphWidget` allows for the creation and visualization of graphs in Jupyter notebooks.\n",
    "\n",
    "Further, `Neo4jVector` supports storing and retrieving embeddings in Neo4j, while `OpenAIEmbeddings` provides tools for generating embeddings from OpenAI models. The `remove_lucene_chars` function cleans text by removing specific characters, ensuring data is properly formatted for Neo4j. Lastly, `ConfigurableField` allows for configurable data fields within a runnable, aiding in the customization of workflows."
   ]
  },
  {
   "cell_type": "code",
   "execution_count": null,
   "metadata": {
    "id": "n5jFoh3cqFfH"
   },
   "outputs": [],
   "source": [
    "# %%writefile main.py\n",
    "\n",
    "from langchain_core.runnables import (\n",
    "    RunnableBranch,\n",
    "    RunnableLambda,\n",
    "    RunnableParallel,\n",
    "    RunnablePassthrough,\n",
    ")\n",
    "from langchain_core.prompts import ChatPromptTemplate\n",
    "from langchain_core.prompts.prompt import PromptTemplate\n",
    "from langchain_core.pydantic_v1 import BaseModel, Field\n",
    "from typing import Tuple, List, Optional\n",
    "from langchain_core.messages import AIMessage, HumanMessage\n",
    "from langchain_core.output_parsers import StrOutputParser\n",
    "import os\n",
    "from langchain_community.graphs import Neo4jGraph\n",
    "from langchain.text_splitter import TokenTextSplitter\n",
    "from langchain_openai import ChatOpenAI\n",
    "from langchain_experimental.graph_transformers import LLMGraphTransformer\n",
    "from neo4j import GraphDatabase\n",
    "from yfiles_jupyter_graphs import GraphWidget\n",
    "from langchain_community.vectorstores import Neo4jVector\n",
    "from langchain_openai import OpenAIEmbeddings\n",
    "from langchain_community.vectorstores.neo4j_vector import remove_lucene_chars\n",
    "from langchain_core.runnables import ConfigurableField, RunnableParallel, RunnablePassthrough\n",
    "\n",
    "\n",
    "try:\n",
    "  import google.colab\n",
    "  from google.colab import output\n",
    "  output.enable_custom_widget_manager()\n",
    "except:\n",
    "  pass\n",
    "\n",
    "\n",
    "\n"
   ]
  },
  {
   "cell_type": "markdown",
   "metadata": {
    "id": "-n8hzmiPGDkr"
   },
   "source": [
    "These lines of code set environment variables for accessing the OpenAI API and a Neo4j database:\n",
    "\n",
    "- `os.environ[\"OPENAI_API_KEY\"] = \"sk-....\"` sets the API key for accessing OpenAI's services.\n",
    "- `os.environ[\"NEO4J_URI\"] = \"bolt+s://d......databases.neo4j.io:7687\"` specifies the URI for connecting to the Neo4j database.\n",
    "- `os.environ[\"NEO4J_USERNAME\"] = \"usr\"` sets the username for the Neo4j database connection.\n",
    "- `os.environ[\"NEO4J_PASSWORD\"] = \"pwd\"` sets the password for the Neo4j database connection.\n",
    "\n",
    "These environment variables are crucial for securely storing sensitive information required for connecting to external services."
   ]
  },
  {
   "cell_type": "code",
   "execution_count": null,
   "metadata": {
    "id": "u-x0sDvkzApK"
   },
   "outputs": [],
   "source": [
    "os.environ[\"OPENAI_API_KEY\"] = \"sk-\"\n",
    "os.environ[\"NEO4J_URI\"] = \"neo4j+s://..........databases.neo4j.io\"\n",
    "os.environ[\"NEO4J_USERNAME\"] = \"usr\"\n",
    "os.environ[\"NEO4J_PASSWORD\"] = \"pwd\"\n"
   ]
  },
  {
   "cell_type": "markdown",
   "metadata": {
    "id": "W3SvhzJ4GIM2"
   },
   "source": [
    "This instance, stored in the variable graph, can be used to interact with the Neo4j database. The Neo4jGraph class provides methods and functionalities to execute queries, retrieve data, and manipulate the graph database, facilitating seamless integration and operations within the LangChain framework."
   ]
  },
  {
   "cell_type": "code",
   "execution_count": null,
   "metadata": {
    "id": "XwzkR_GOzArj"
   },
   "outputs": [],
   "source": [
    "graph = Neo4jGraph()"
   ]
  },
  {
   "cell_type": "markdown",
   "metadata": {
    "id": "Iw1cepLUGWEM"
   },
   "source": [
    "This code snippet loads web pages from a list of URLs using the `WebBaseLoader` class from the `langchain_community.document_loaders` module:\n",
    "\n",
    "\n",
    "- **WebBaseLoader**: This class is used for loading web pages from URLs provided in a list. It likely uses web scraping techniques to retrieve the content from each URL.\n",
    "- **loader.requests_kwargs**: This line sets a keyword argument for the HTTP request made by the loader. `{'verify': False}` disables SSL certificate verification, which can be useful when dealing with self-signed certificates or testing environments.\n",
    "- **data = loader.load()**: This line executes the loading process, fetching the HTML content from the specified URLs and storing it in the `data` variable.\n",
    "\n",
    "This approach is helpful for gathering content from multiple web pages for further processing, such as natural language processing or content analysis, within the LangChain framework."
   ]
  },
  {
   "cell_type": "code",
   "execution_count": null,
   "metadata": {
    "colab": {
     "base_uri": "https://localhost:8080/"
    },
    "id": "nfpW5QoAudoX",
    "outputId": "4cc2c23b-e1b2-4296-863a-ad317cc7545d"
   },
   "outputs": [
    {
     "name": "stderr",
     "output_type": "stream",
     "text": [
      "/usr/local/lib/python3.10/dist-packages/urllib3/connectionpool.py:1099: InsecureRequestWarning: Unverified HTTPS request is being made to host 'www.apple.com'. Adding certificate verification is strongly advised. See: https://urllib3.readthedocs.io/en/latest/advanced-usage.html#tls-warnings\n",
      "  warnings.warn(\n",
      "/usr/local/lib/python3.10/dist-packages/urllib3/connectionpool.py:1099: InsecureRequestWarning: Unverified HTTPS request is being made to host 'www.apple.com'. Adding certificate verification is strongly advised. See: https://urllib3.readthedocs.io/en/latest/advanced-usage.html#tls-warnings\n",
      "  warnings.warn(\n",
      "/usr/local/lib/python3.10/dist-packages/urllib3/connectionpool.py:1099: InsecureRequestWarning: Unverified HTTPS request is being made to host 'www.apple.com'. Adding certificate verification is strongly advised. See: https://urllib3.readthedocs.io/en/latest/advanced-usage.html#tls-warnings\n",
      "  warnings.warn(\n",
      "/usr/local/lib/python3.10/dist-packages/urllib3/connectionpool.py:1099: InsecureRequestWarning: Unverified HTTPS request is being made to host 'www.apple.com'. Adding certificate verification is strongly advised. See: https://urllib3.readthedocs.io/en/latest/advanced-usage.html#tls-warnings\n",
      "  warnings.warn(\n",
      "/usr/local/lib/python3.10/dist-packages/urllib3/connectionpool.py:1099: InsecureRequestWarning: Unverified HTTPS request is being made to host 'www.apple.com'. Adding certificate verification is strongly advised. See: https://urllib3.readthedocs.io/en/latest/advanced-usage.html#tls-warnings\n",
      "  warnings.warn(\n",
      "/usr/local/lib/python3.10/dist-packages/urllib3/connectionpool.py:1099: InsecureRequestWarning: Unverified HTTPS request is being made to host 'www.apple.com'. Adding certificate verification is strongly advised. See: https://urllib3.readthedocs.io/en/latest/advanced-usage.html#tls-warnings\n",
      "  warnings.warn(\n",
      "/usr/local/lib/python3.10/dist-packages/urllib3/connectionpool.py:1099: InsecureRequestWarning: Unverified HTTPS request is being made to host 'www.apple.com'. Adding certificate verification is strongly advised. See: https://urllib3.readthedocs.io/en/latest/advanced-usage.html#tls-warnings\n",
      "  warnings.warn(\n",
      "/usr/local/lib/python3.10/dist-packages/urllib3/connectionpool.py:1099: InsecureRequestWarning: Unverified HTTPS request is being made to host 'www.apple.com'. Adding certificate verification is strongly advised. See: https://urllib3.readthedocs.io/en/latest/advanced-usage.html#tls-warnings\n",
      "  warnings.warn(\n",
      "/usr/local/lib/python3.10/dist-packages/urllib3/connectionpool.py:1099: InsecureRequestWarning: Unverified HTTPS request is being made to host 'www.apple.com'. Adding certificate verification is strongly advised. See: https://urllib3.readthedocs.io/en/latest/advanced-usage.html#tls-warnings\n",
      "  warnings.warn(\n",
      "/usr/local/lib/python3.10/dist-packages/urllib3/connectionpool.py:1099: InsecureRequestWarning: Unverified HTTPS request is being made to host 'www.apple.com'. Adding certificate verification is strongly advised. See: https://urllib3.readthedocs.io/en/latest/advanced-usage.html#tls-warnings\n",
      "  warnings.warn(\n"
     ]
    }
   ],
   "source": [
    "from langchain_community.document_loaders import WebBaseLoader\n",
    "loader = WebBaseLoader([\"https://www.apple.com\",\n",
    "                        \"https://www.apple.com/store\",\n",
    "                        \"https://www.apple.com/mac/\",\n",
    "                        \"https://www.apple.com/ipad/\",\n",
    "                        \"https://www.apple.com/iphone/\",\n",
    "                        \"https://www.apple.com/watch/\",\n",
    "                        \"https://www.apple.com/apple-vision-pro/\",\n",
    "                        \"https://www.apple.com/airpods/\",\n",
    "                        \"https://www.apple.com/tv-home/\",\n",
    "                        \"https://www.apple.com/shop/accessories/all\",\n",
    "                        ])\n",
    "loader.requests_kwargs = {'verify':False}\n",
    "data = loader.load()\n",
    "# print(data)"
   ]
  },
  {
   "cell_type": "code",
   "execution_count": null,
   "metadata": {
    "colab": {
     "base_uri": "https://localhost:8080/"
    },
    "id": "T4Fcg-eBv2AB",
    "outputId": "44b5fd8c-7680-4ce2-ab71-a393594a4643"
   },
   "outputs": [
    {
     "data": {
      "text/plain": [
       "8316"
      ]
     },
     "execution_count": 30,
     "metadata": {},
     "output_type": "execute_result"
    }
   ],
   "source": [
    "len(data[0].page_content)"
   ]
  },
  {
   "cell_type": "code",
   "execution_count": null,
   "metadata": {
    "colab": {
     "base_uri": "https://localhost:8080/",
     "height": 35
    },
    "id": "fOWYO20aLVBL",
    "outputId": "86bcb728-70b0-4619-bdb8-ab181278f60b"
   },
   "outputs": [
    {
     "data": {
      "application/vnd.google.colaboratory.intrinsic+json": {
       "type": "string"
      },
      "text/plain": [
       "'\\n\\n\\n\\n\\n\\n\\n\\n\\n\\n\\n\\n\\nApple\\n\\n\\n\\n\\n\\n\\n\\n\\n\\n\\n\\n\\n\\n\\n\\n\\n\\n\\nApple\\n\\nAppleStoreMaciPadiPhoneWatch\\nVisionAirPodsTV & HomeEnter'"
      ]
     },
     "execution_count": 31,
     "metadata": {},
     "output_type": "execute_result"
    }
   ],
   "source": [
    "data[0].page_content[0:100]"
   ]
  },
  {
   "cell_type": "markdown",
   "metadata": {
    "id": "LNSNunP2Gd2c"
   },
   "source": [
    "\n",
    "\n",
    "- **TokenTextSplitter**: This class is used to split text into chunks, typically to prepare it for processing by language models or other natural language processing tasks.\n",
    "- **text_splitter = TokenTextSplitter(chunk_size=512, chunk_overlap=24)**: Initializes an instance of `TokenTextSplitter` with a chunk size of 512 tokens and an overlap of 24 tokens between consecutive chunks.\n",
    "- **documents = text_splitter.split_documents(data)**: Splits the input `data` (presumably a collection of text documents) into chunks of the specified size and overlap, storing the resulting chunks in the `documents` variable.\n",
    "\n",
    "This approach is useful for breaking down large text documents or datasets into manageable pieces that can be processed more efficiently by downstream tasks or models."
   ]
  },
  {
   "cell_type": "code",
   "execution_count": null,
   "metadata": {
    "id": "WSBwTblIxmgO"
   },
   "outputs": [],
   "source": [
    "text_splitter = TokenTextSplitter(chunk_size=512, chunk_overlap=24)\n",
    "documents = text_splitter.split_documents(data)"
   ]
  },
  {
   "cell_type": "code",
   "execution_count": null,
   "metadata": {
    "colab": {
     "base_uri": "https://localhost:8080/"
    },
    "id": "dI5DbzHLezVX",
    "outputId": "633788ae-df1e-4fa8-ece0-319d2341d151"
   },
   "outputs": [
    {
     "name": "stdout",
     "output_type": "stream",
     "text": [
      "page_content='\n",
      "\n",
      "\n",
      "\n",
      "\n",
      "\n",
      "\n",
      "\n",
      "\n",
      "\n",
      "\n",
      "\n",
      "\n",
      "Apple\n",
      "\n",
      "\n",
      "\n",
      "\n",
      "\n",
      "\n",
      "\n",
      "\n",
      "\n",
      "\n",
      "\n",
      "\n",
      "\n",
      "\n",
      "\n",
      "\n",
      "\n",
      "\n",
      "Apple\n",
      "\n",
      "AppleStoreMaciPadiPhoneWatch\n",
      "VisionAirPodsTV & HomeEntertainmentAccessoriesSupport\n",
      "\n",
      "\n",
      "0+\n",
      "\n",
      "\n",
      "\n",
      "\n",
      "\n",
      "\n",
      "\n",
      "\n",
      "\n",
      "\t\t\t\t\t\t\t\t\tWe’re donating $5 to the Global Fund for every purchase made with Apple Pay at Apple. Through 12/8.1 Shop\n",
      "\n",
      "\n",
      "\n",
      "\n",
      "\n",
      "\n",
      "\n",
      "\n",
      "\n",
      "\n",
      " \n",
      "\n",
      "The Apple Store Shopping Event\n",
      "Ends tonight. Get an Apple Gift Card with an eligible purchase.2\n",
      "\n",
      "Shop\n",
      "\n",
      "\n",
      "\n",
      "\n",
      "\n",
      "\n",
      "\n",
      "\n",
      "\n",
      "\n",
      "\n",
      " \n",
      "\n",
      "iPhone 16 Pro\n",
      "Hello, Apple Intelligence.\n",
      "\n",
      "Learn more\n",
      "Buy\n",
      "\n",
      "\n",
      "\n",
      "\n",
      "\n",
      "\n",
      "\n",
      "\n",
      "\n",
      "\n",
      "\n",
      "\n",
      " \n",
      "\n",
      "iPhone 16\n",
      "Hello, Apple Intelligence.\n",
      "\n",
      "Learn more\n",
      "Buy\n",
      "\n",
      "\n",
      "\n",
      "\n",
      "\n",
      "\n",
      "\n",
      "\n",
      "\n",
      "\n",
      "\n",
      "\n",
      "\n",
      "\n",
      " \n",
      "\n",
      "\n",
      "iPad Air\n",
      "Two sizes. Faster chip. Does it all.\n",
      "\n",
      "Learn more\n",
      "Buy\n",
      "\n",
      "\n",
      "\n",
      "Hello, Apple Intelligence.\n",
      "\n",
      "\n",
      "\n",
      "\n",
      "\n",
      "\n",
      "\n",
      "\n",
      "\n",
      "\n",
      "\n",
      "\n",
      " \n",
      "\n",
      "AirPods Pro 2\n",
      "Now with a Hearing Aid feature.3\n",
      "\n",
      "\n",
      "Learn more\n",
      "Buy\n",
      "\n",
      "\n",
      "\n",
      "\n",
      "\n",
      "\n",
      "\n",
      "\n",
      "\n",
      "\n",
      "\n",
      "\n",
      " \n",
      "\n",
      "Apple Watch Series 10\n",
      "Thinstant classic.\n",
      "\n",
      "Learn more\n",
      "Buy\n",
      "\n",
      "\n",
      "\n",
      "\n",
      "\n",
      "\n",
      "\n",
      "\n",
      "\n",
      "\n",
      "\n",
      "\n",
      " \n",
      "\n",
      "MacBook Air\n",
      "Lean. Mean. M3 machine.\n",
      "\n",
      "Learn more\n",
      "Buy\n",
      "\n",
      "\n",
      "\n",
      "\n",
      "\n",
      "\n",
      "\n",
      "\n",
      "\n",
      "\n",
      "\n",
      "\n",
      " \n",
      "\n",
      "Apple Trade In\n",
      "Get $180–$650 in credit when you trade in iPhone 12 or higher.4\n",
      "\n",
      "Get your estimate\n",
      "\n",
      "\n",
      "\n",
      "\n",
      "\n",
      "\n",
      "\n",
      "\n",
      "\n",
      "\n",
      "\n",
      "\n",
      " \n",
      "\n",
      "Apple Card\n",
      "Get up to 3% Daily Cash back with every purchase.\n",
      "\n",
      "Learn more\n",
      "Apply now\n",
      "Apply now\n",
      "\n",
      "\n",
      "\n",
      "\n",
      "\n",
      "\n",
      "\n",
      "\n",
      "\n",
      "\n",
      "\n",
      "\n",
      "\n",
      "\n",
      "Apple TV+\n",
      "\n",
      "\n",
      "\n",
      "\n",
      "\n",
      "\n",
      "\n",
      "\n",
      "\n",
      "\n",
      "\n",
      "\n",
      "\n",
      "\n",
      "\n",
      "\n",
      "\n",
      "\n",
      "\n",
      "FAM Gallery\n",
      "\n",
      "\n",
      "\n",
      "\n",
      "\n",
      "Play now\n",
      "\n",
      "\n",
      "\n",
      "NBA 2K25 Arcade Edition\n",
      "\n",
      "\n",
      "\n",
      "\n",
      "\n",
      "Watch now\n",
      "\n",
      "\n",
      "\n",
      "Improve Your Posture with Pilates \n",
      "\n",
      "\n",
      "\n",
      "\n",
      "\n",
      "Listen now\n",
      "\n",
      "\n",
      "\n",
      "\n",
      "Today’s Country\n",
      "\n",
      "\n",
      "\n",
      "\n",
      "\n",
      "Play now\n",
      "\n",
      "\n",
      "\n",
      "Hello Kitty Island Adventure\n",
      "\n",
      "\n",
      "\n",
      "\n",
      "\n",
      "Watch now\n",
      "\n",
      "\n",
      "\n",
      "Strength with Kim\n",
      "\n",
      "\n",
      "\n",
      "\n",
      "\n",
      "Listen now\n",
      "\n",
      "\n",
      "\n",
      "\n",
      "The Crate\n",
      "\n",
      "\n",
      "\n",
      "\n",
      "\n",
      "\n",
      "\n",
      "\n",
      "\n",
      "\n",
      "\n",
      "\n",
      "Apple Footer\n",
      "\n",
      "\n",
      "\n",
      "1. Through December 8, 2024, Apple will donate $5 for every purchase made with Apple Pay on apple.com' metadata={'source': 'https://www.apple.com', 'title': 'Apple', 'language': 'en-US'}\n",
      "page_content='. Through December 8, 2024, Apple will donate $5 for every purchase made with Apple Pay on apple.com, in the Apple Store app, or at an Apple Store. Donations are limited to a maximum of three million dollars ($3,000,000). The donation goes to the Global Fund to fight AIDS and help fund critical health programs that save lives.\n",
      "Apple Pay is a service provided by Apple Payments Services LLC, a subsidiary of Apple Inc. Neither Apple Inc. nor Apple Payments Services LLC is a bank. Any card used in Apple Pay is offered by the card issuer.\n",
      "To use Apple Pay you need a supported card from a participating card issuer. To check if your card is compatible with Apple Pay, contact your card issuer.\n",
      "Apple Pay is not available in all markets. View Apple Pay countries and regions.\n",
      "Features are subject to change. Some features, applications, and services may not be available in all regions or all languages and may require specific hardware and software. For more information, see Feature Availability.\n",
      "\n",
      "2. Offer valid on qualifying purchases of Eligible Products (excludes carrier-connected iPhones and iPhones purchased from the Apple Store Online via financing or iPhone Payments) from November 29, 2024, to December 2, 2024, at a Qualifying Location. Gift card values may vary by Eligible Product. Offer subject to availability. While supplies last. Qualifying purchases can receive a discount equal to the value of the Apple Gift Card (depending on their purchase) off the price of the Eligible Product, but will be charged for all items in their cart, including the Apple Gift Card. Additional restrictions apply. View full terms and conditions of offer at apple.com/us/shop/goto/gifts/shopping_event/terms_conditions.\n",
      "\n",
      "3. Hearing Aid and Hearing Test: The Hearing Aid feature has received FDA authorization. The Hearing Test and Hearing Aid features are supported on AirPods Pro 2 with the latest firmware paired with a compatible iPhone or iPad with iOS 18 or iPadOS 18 and later and are intended for people 18 years old or older. The Hearing Aid feature is also supported on a compatible Mac with macOS Sequoia and later. It is intended for people with perceived mild to moderate hearing loss.\n",
      "\n",
      "Hearing Protection: The Hearing Protection feature works with AirPods Pro ' metadata={'source': 'https://www.apple.com', 'title': 'Apple', 'language': 'en-US'}\n",
      "page_content='loss.\n",
      "\n",
      "Hearing Protection: The Hearing Protection feature works with AirPods Pro 2 with the latest firmware when paired with a compatible iPhone, iPad, or Mac with iOS 18, iPadOS 18, or macOS Sequoia and later. Feature is only available in the U.S. and Canada. See support.apple.com/120850 for total attenuation and more information. The Hearing Protection feature is not suitable for protection against extremely loud impulse sounds, such as gunfire, fireworks, or jackhammers, or against sustained sounds louder than 110 dBA.\n",
      "\n",
      "\n",
      "4. Trade‑in values will vary based on the condition, year, and configuration of your eligible trade‑in device. Not all devices are eligible for credit. You must be at least the age of majority to be eligible to trade in for credit or for an Apple Gift Card. Trade‑in value may be applied toward qualifying new device purchase, or added to an Apple Gift Card. Actual value awarded is based on receipt of a qualifying device matching the description provided when estimate was made. Sales tax may be assessed on full value of a new device purchase. In‑store trade‑in requires presentation of a valid photo ID (local law may require saving this information). Offer may not be available in all stores, and may vary between in‑store and online trade‑in. Some stores may have additional requirements. Apple or its trade‑in partners reserve the right to refuse, cancel, or limit quantity of any trade‑in transaction for any reason. More details are available from Apple’s trade-in partner for trade‑in and recycling of eligible devices. Restrictions and limitations may apply.\n",
      "\n",
      "To access and use all Apple Card features and products available only to Apple Card users, you must add Apple Card to Wallet on an iPhone or iPad that supports and has the latest version of iOS or iPadOS. Apple Card is subject to credit approval, available only for qualifying applicants in the United States, and issued by Goldman Sachs Bank USA, Salt Lake City Branch. \n",
      "If you reside in the U.S. territories, please call Goldman Sachs at 877-255-5923 with questions about Apple Card.\n",
      "Learn more about how Apple Card applications are evaluated at support.apple.com/kb/HT209218.\n",
      "Major League Baseball trademarks and copyrights are used with permission of MLB Advanced Media,' metadata={'source': 'https://www.apple.com', 'title': 'Apple', 'language': 'en-US'}\n"
     ]
    }
   ],
   "source": [
    "print(documents[0])\n",
    "print(documents[1])\n",
    "print(documents[2])"
   ]
  },
  {
   "cell_type": "markdown",
   "metadata": {
    "id": "c2MEovPDGzBW"
   },
   "source": [
    "\n",
    "\n",
    "- **ChatOpenAI**: This class is used to interact with OpenAI's chat models. In this case, it's initialized with parameters like `temperature=0` and `model_name=\"gpt-3.5-turbo-0125\"`.\n",
    "- **LLMGraphTransformer**: This class is used to transform text documents into graph documents using a language model (LLM).\n",
    "- **Neo4jGraph**: This class represents a connection to a Neo4j graph database.\n",
    "\n",
    "\n",
    "The code first initializes the language model (`llm`) and the transformer (`llm_transformer`) to convert text documents (`documents`) into graph documents. Then, it initializes a `Neo4jGraph` instance (`graph`) and adds the transformed graph documents to the Neo4j database using the `add_graph_documents` method.\n",
    "\n",
    "This approach integrates natural language processing with graph database operations, enabling the creation of structured graph representations from unstructured text data."
   ]
  },
  {
   "cell_type": "code",
   "execution_count": null,
   "metadata": {
    "colab": {
     "background_save": true
    },
    "id": "0DttkbLsyAza"
   },
   "outputs": [],
   "source": [
    "llm=ChatOpenAI(temperature=0, model_name=\"gpt-3.5-turbo-0125\") # gpt-4-0125-preview occasionally has issues\n",
    "llm_transformer = LLMGraphTransformer(llm=llm)\n",
    "\n",
    "# Following needs to be used only first time to load the data. It took 3m 44s\n",
    "graph_documents = llm_transformer.convert_to_graph_documents(documents)\n",
    "\n",
    "\n"
   ]
  },
  {
   "cell_type": "markdown",
   "metadata": {
    "id": "nW1WQB5-PYhj"
   },
   "source": [
    "**The following needs to be run for the first time when you load data into DB.**"
   ]
  },
  {
   "cell_type": "code",
   "execution_count": null,
   "metadata": {
    "id": "qxodjNISPSXK"
   },
   "outputs": [],
   "source": [
    "graph.add_graph_documents(\n",
    "    graph_documents,\n",
    "    baseEntityLabel=True,\n",
    "    include_source=True\n",
    ")"
   ]
  },
  {
   "cell_type": "code",
   "execution_count": null,
   "metadata": {
    "colab": {
     "base_uri": "https://localhost:8080/"
    },
    "id": "zwUdvx8I5208",
    "outputId": "b54c4075-fa40-4034-a569-7c941af15426"
   },
   "outputs": [
    {
     "name": "stdout",
     "output_type": "stream",
     "text": [
      "page_content='\n",
      "\n",
      "\n",
      "\n",
      "\n",
      "\n",
      "\n",
      "\n",
      "Apple Store Online - Holiday Gifts - Apple\n",
      "\n",
      "\n",
      "\n",
      "\n",
      "\n",
      "\n",
      "\n",
      "\n",
      "\n",
      "\n",
      "\n",
      "\n",
      "\n",
      "\n",
      "\n",
      "\n",
      "\n",
      "\n",
      "\n",
      "\n",
      "\n",
      "\n",
      "\n",
      "\n",
      "\n",
      "\n",
      "\n",
      "\n",
      "\n",
      "\n",
      "\n",
      "\n",
      "\n",
      "\n",
      "\n",
      "\n",
      "\n",
      "\n",
      "\n",
      "\n",
      "\n",
      "\n",
      "\n",
      "\n",
      "\n",
      "\n",
      "\n",
      "\n",
      "\n",
      "\n",
      "\n",
      "\n",
      "\n",
      "\n",
      "\n",
      "\n",
      "\n",
      "\n",
      "\n",
      "\n",
      "\n",
      "\n",
      "\n",
      "\n",
      "\n",
      "\n",
      "\n",
      "\n",
      "\n",
      "\n",
      "\n",
      "\n",
      "\n",
      "\n",
      "\n",
      "\n",
      "\n",
      "\n",
      "\n",
      "\n",
      "\n",
      "\n",
      "\n",
      "\n",
      "\n",
      "\n",
      "\n",
      "\n",
      "Apple\n",
      "\n",
      "\n",
      "\n",
      "\n",
      "\n",
      "\n",
      "\n",
      "\n",
      "Store\n",
      "\n",
      "\n",
      "\n",
      "\n",
      "\n",
      "\n",
      "\n",
      "Mac\n",
      "\n",
      "\n",
      "\n",
      "\n",
      "\n",
      "\n",
      "\n",
      "iPad\n",
      "\n",
      "\n",
      "\n",
      "\n",
      "\n",
      "\n",
      "\n",
      "iPhone\n",
      "\n",
      "\n",
      "\n",
      "\n",
      "\n",
      "\n",
      "\n",
      "Watch\n",
      "\n",
      "\n",
      "\n",
      "\n",
      "\n",
      "\n",
      "\n",
      "\n",
      "\n",
      "\n",
      "Vision\n",
      "\n",
      "\n",
      "\n",
      "\n",
      "\n",
      "\n",
      "\n",
      "AirPods\n",
      "\n",
      "\n",
      "\n",
      "\n",
      "\n",
      "\n",
      "\n",
      "TV & Home\n",
      "\n",
      "\n",
      "\n",
      "\n",
      "\n",
      "\n",
      "\n",
      "Entertainment\n",
      "\n",
      "\n",
      "\n",
      "\n",
      "\n",
      "\n",
      "\n",
      "Accessories\n",
      "\n",
      "\n",
      "\n",
      "\n",
      "\n",
      "\n",
      "\n",
      "Support\n",
      "\n",
      "\n",
      "\n",
      "\n",
      "\n",
      "\n",
      "\n",
      "\n",
      "\n",
      " \n",
      "\n",
      "\n",
      "\n",
      "\n",
      "\n",
      "\n",
      "\n",
      "\n",
      "\n",
      "\n",
      "\n",
      "\n",
      "\n",
      "\n",
      "\n",
      "\n",
      "\n",
      "\n",
      "\n",
      "\n",
      "\n",
      "\n",
      "\n",
      "\n",
      "\n",
      "\n",
      "0+\n",
      "\n",
      "\n",
      "\n",
      "\n",
      "\n",
      "\n",
      "\n",
      "\n",
      "\n",
      "\n",
      "\n",
      "\n",
      "\n",
      "\n",
      "\n",
      "\n",
      "\n",
      "\n",
      "\n",
      "\n",
      "\n",
      "\n",
      "\n",
      "\n",
      "\n",
      "\n",
      "\n",
      "\n",
      "\n",
      "\n",
      "\n",
      "\n",
      "\n",
      "\n",
      "\n",
      "\n",
      "\n",
      "\n",
      "\n",
      "\n",
      "\n",
      "\n",
      "\n",
      "\n",
      "\n",
      "\n",
      "\n",
      "\n",
      "\n",
      "\n",
      "\n",
      "Store.\n",
      "Gift magic this holiday.\n",
      "\n",
      "\n",
      "\n",
      "\n",
      "\n",
      "\n",
      "\n",
      "\n",
      "\n",
      "\n",
      "\n",
      "\n",
      "\n",
      "\n",
      "\n",
      "\n",
      "\n",
      "\n",
      "\n",
      "\n",
      "                                                                            Mac\n",
      "                                                                        \n",
      "\n",
      "\n",
      "\n",
      "\n",
      "\n",
      "\n",
      "\n",
      "\n",
      "\n",
      "\n",
      "\n",
      "                                                                            iPhone\n",
      "                                                                        \n",
      "\n",
      "\n",
      "\n",
      "\n",
      "\n",
      "\n",
      "\n",
      "\n",
      "\n",
      "' metadata={'source': 'https://www.apple.com/store', 'title': 'Apple Store Online - Holiday Gifts - Apple', 'description': 'Gift magic this holiday at Apple. Shop the latest gifts, add free engraving, and get help from a Specialist.', 'language': 'en-US', 'id': 'd1436229e8c169e024957fda9947a721'}\n",
      "nodes=[Node(id='Apple', type='Company', properties={}), Node(id='Store', type='Store', properties={}), Node(id='Mac', type='Product', properties={}), Node(id='Iphone', type='Product', properties={})] relationships=[Relationship(source=Node(id='Apple', type='Company', properties={}), target=Node(id='Store', type='Store', properties={}), type='SELLS', properties={}), Relationship(source=Node(id='Store', type='Store', properties={}), target=Node(id='Mac', type='Product', properties={}), type='SELLS', properties={}), Relationship(source=Node(id='Store', type='Store', properties={}), target=Node(id='Iphone', type='Product', properties={}), type='SELLS', properties={})] source=Document(metadata={'source': 'https://www.apple.com/store', 'title': 'Apple Store Online - Holiday Gifts - Apple', 'description': 'Gift magic this holiday at Apple. Shop the latest gifts, add free engraving, and get help from a Specialist.', 'language': 'en-US', 'id': 'd1436229e8c169e024957fda9947a721'}, page_content='\\n\\n\\n\\n\\n\\n\\n\\nApple Store Online - Holiday Gifts - Apple\\n\\n\\n\\n\\n\\n\\n\\n\\n\\n\\n\\n\\n\\n\\n\\n\\n\\n\\n\\n\\n\\n\\n\\n\\n\\n\\n\\n\\n\\n\\n\\n\\n\\n\\n\\n\\n\\n\\n\\n\\n\\n\\n\\n\\n\\n\\n\\n\\n\\n\\n\\n\\n\\n\\n\\n\\n\\n\\n\\n\\n\\n\\n\\n\\n\\n\\n\\n\\n\\n\\n\\n\\n\\n\\n\\n\\n\\n\\n\\n\\n\\n\\n\\n\\n\\n\\n\\n\\nApple\\n\\n\\n\\n\\n\\n\\n\\n\\nStore\\n\\n\\n\\n\\n\\n\\n\\nMac\\n\\n\\n\\n\\n\\n\\n\\niPad\\n\\n\\n\\n\\n\\n\\n\\niPhone\\n\\n\\n\\n\\n\\n\\n\\nWatch\\n\\n\\n\\n\\n\\n\\n\\n\\n\\n\\nVision\\n\\n\\n\\n\\n\\n\\n\\nAirPods\\n\\n\\n\\n\\n\\n\\n\\nTV & Home\\n\\n\\n\\n\\n\\n\\n\\nEntertainment\\n\\n\\n\\n\\n\\n\\n\\nAccessories\\n\\n\\n\\n\\n\\n\\n\\nSupport\\n\\n\\n\\n\\n\\n\\n\\n\\n\\n \\n\\n\\n\\n\\n\\n\\n\\n\\n\\n\\n\\n\\n\\n\\n\\n\\n\\n\\n\\n\\n\\n\\n\\n\\n\\n\\n0+\\n\\n\\n\\n\\n\\n\\n\\n\\n\\n\\n\\n\\n\\n\\n\\n\\n\\n\\n\\n\\n\\n\\n\\n\\n\\n\\n\\n\\n\\n\\n\\n\\n\\n\\n\\n\\n\\n\\n\\n\\n\\n\\n\\n\\n\\n\\n\\n\\n\\n\\n\\nStore.\\nGift magic this\\xa0holiday.\\n\\n\\n\\n\\n\\n\\n\\n\\n\\n\\n\\n\\n\\n\\n\\n\\n\\n\\n\\n\\n                                                                            Mac\\n                                                                        \\n\\n\\n\\n\\n\\n\\n\\n\\n\\n\\n\\n                                                                            iPhone\\n                                                                        \\n\\n\\n\\n\\n\\n\\n\\n\\n\\n')\n"
     ]
    }
   ],
   "source": [
    "print (documents[5])\n",
    "print(graph_documents[5])"
   ]
  },
  {
   "cell_type": "markdown",
   "metadata": {
    "id": "-76PrdloHXmK"
   },
   "source": [
    "The `showGraph` function takes an optional `Cypher `query string as input (defaulting to a predefined query), establishes a connection to `Neo4j` using credentials from environment variables, executes the query to retrieve graph data, and then visualizes it using a `GraphWidget`. The widget allows interactive exploration of the graph nodes and relationships directly within the notebook environment, making it easy to analyze and understand graph structures and connections."
   ]
  },
  {
   "cell_type": "code",
   "execution_count": null,
   "metadata": {
    "colab": {
     "base_uri": "https://localhost:8080/",
     "height": 817,
     "referenced_widgets": [
      "0c49f56dd28247ef9e098ccb3317aad9",
      "b9ff14e1616447669b2d48e6e7b0aebf"
     ]
    },
    "id": "verAasH9yIu6",
    "outputId": "60b4de09-b3c5-4b18-c6d7-121e1414dd3e"
   },
   "outputs": [
    {
     "data": {
      "application/vnd.jupyter.widget-view+json": {
       "model_id": "0c49f56dd28247ef9e098ccb3317aad9",
       "version_major": 2,
       "version_minor": 0
      },
      "text/plain": [
       "GraphWidget(layout=Layout(height='800px', width='100%'))"
      ]
     },
     "metadata": {
      "application/vnd.jupyter.widget-view+json": {
       "colab": {
        "custom_widget_manager": {
         "url": "https://ssl.gstatic.com/colaboratory-static/widgets/colab-cdn-widget-manager/2b70e893a8ba7c0f/manager.min.js"
        }
       }
      }
     },
     "output_type": "display_data"
    }
   ],
   "source": [
    "# directly show the graph resulting from the given Cypher query\n",
    "default_cypher = \"MATCH (s)-[r:!MENTIONS]->(t) RETURN s,r,t LIMIT 50\"\n",
    "\n",
    "def showGraph(cypher: str = default_cypher):\n",
    "    # create a neo4j session to run queries\n",
    "    driver = GraphDatabase.driver(\n",
    "        uri = os.environ[\"NEO4J_URI\"],\n",
    "        auth = (os.environ[\"NEO4J_USERNAME\"],\n",
    "                os.environ[\"NEO4J_PASSWORD\"]))\n",
    "    session = driver.session()\n",
    "    widget = GraphWidget(graph = session.run(cypher).graph())\n",
    "    widget.node_label_mapping = 'id'\n",
    "    #display(widget)\n",
    "    return widget\n",
    "\n",
    "showGraph()"
   ]
  },
  {
   "cell_type": "markdown",
   "metadata": {
    "id": "2LSQjHkAHuTj"
   },
   "source": [
    "The `Neo4jVector.from_existing_graph()` method is used to create a vector index within a Neo4j database. It integrates embeddings from OpenAI's models, facilitating efficient search and retrieval operations based on both textual content and embedding similarities.\n",
    "\n",
    "### Key Components:\n",
    "\n",
    "- **LangChain Components**:\n",
    "  - **Neo4jVector**: This class from LangChain Community is designed to manage vector indexes within Neo4j, enabling storage and retrieval of embeddings associated with graph nodes.\n",
    "  - **OpenAIEmbeddings**: This class from LangChain OpenAI provides tools for generating embeddings using OpenAI's models.\n",
    "\n",
    "- **Initialization Parameters**:\n",
    "  - **OpenAIEmbeddings()**: Initializes the use of OpenAI's models to generate embeddings.\n",
    "  - **search_type=\"hybrid\"**: Specifies a hybrid search approach, leveraging both textual content and embedding similarities for efficient querying.\n",
    "  - **node_label=\"Document\"**: Specifies that nodes labeled \"Document\" in the Neo4j graph will store document-related information.\n",
    "  - **text_node_properties=[\"text\"]**: Defines the property name(s) within \"Document\" nodes where textual content is stored.\n",
    "  - **embedding_node_property=\"embedding\"**: Specifies the property name where embeddings are stored within the \"Document\" nodes.\n",
    "\n",
    "### Usage Scenario:\n",
    "\n",
    "This setup is useful in scenarios where you want to store and query documents based on both their textual content and their embeddings. For example, you can store documents in Neo4j, extract their embeddings using OpenAI's models, and then use this vector index to efficiently search for documents based on their semantic similarity to a given query or to other documents in the database.\n",
    "\n",
    "This approach leverages the capabilities of Neo4j for graph-based storage and retrieval, coupled with advanced embedding techniques from OpenAI, providing a powerful toolset for managing and analyzing textual data within a graph database environment."
   ]
  },
  {
   "cell_type": "code",
   "execution_count": null,
   "metadata": {
    "id": "J23HXjaEzdu8"
   },
   "outputs": [],
   "source": [
    "vector_index = Neo4jVector.from_existing_graph(\n",
    "    OpenAIEmbeddings(),\n",
    "    search_type=\"hybrid\",\n",
    "    node_label=\"Document\",\n",
    "    text_node_properties=[\"text\"],\n",
    "    embedding_node_property=\"embedding\"\n",
    ")"
   ]
  },
  {
   "cell_type": "markdown",
   "metadata": {
    "id": "U__qaE9sHtW8"
   },
   "source": [
    "\n",
    "\n",
    "### Retriever Setup:\n",
    "\n",
    "The code snippet performs the following actions:\n",
    "\n",
    "1. **Create Fulltext Index**:\n",
    "   - The `graph.query()` statement creates a fulltext index named `entity` if it does not already exist. This index is applied to nodes labeled `__Entity__` and indexes the `id` property of these nodes for efficient querying.\n",
    "\n",
    "2. **Entity Data Model**:\n",
    "   - The `Entities` class, derived from `BaseModel`, defines a structured representation for identifying information about entities extracted from text.\n",
    "   - **Names**: A list of strings representing entities such as courses, professors, requirements, or project entities found in the text.\n",
    "\n",
    "3. **Chat Prompt Template**:\n",
    "   - The `ChatPromptTemplate.from_messages()` method initializes a prompt template for interacting with users.\n",
    "   - The prompt consists of a system message informing the user about the extraction task and a human message specifying the format for input to extract information.\n",
    "\n",
    "4. **Entity Chain**:\n",
    "   - The `prompt | llm.with_structured_output(Entities)` constructs an entity extraction pipeline using LangChain:\n",
    "     - **Prompt**: Provides instructions to the user on how to input questions or text for entity extraction.\n",
    "     - **LLM (Language Model)**: Processes the input using OpenAI's language model to extract structured entities as defined by the `Entities` class.\n",
    "\n",
    "### Usage:\n",
    "\n",
    "This setup is designed to facilitate the extraction of entities from text input in a structured and systematic manner. The fulltext index ensures that entity nodes in the Neo4j graph are efficiently indexed, allowing for quick retrieval of relevant entities based on their `id` property. The `Entities` data model and the prompt template guide the interaction with users, ensuring that the extraction process is clear and consistent.\n",
    "\n",
    "This approach leverages natural language processing and graph database capabilities to manage and analyze textual data effectively, supporting tasks such as information extraction, entity linking, and knowledge base population within a broader application or system."
   ]
  },
  {
   "cell_type": "code",
   "execution_count": null,
   "metadata": {
    "id": "4DLAEMgHz2nF"
   },
   "outputs": [],
   "source": [
    "# Retriever\n",
    "\n",
    "graph.query(\n",
    "    \"CREATE FULLTEXT INDEX entity IF NOT EXISTS FOR (e:__Entity__) ON EACH [e.id]\")\n",
    "\n",
    "# Extract entities from text\n",
    "class Entities(BaseModel):\n",
    "    \"\"\"Identifying information about entities.\"\"\"\n",
    "\n",
    "    names: List[str] = Field(\n",
    "        ...,\n",
    "        description=\"All the courses, requirements, or business entities that \"\n",
    "        \"appear in the text\",\n",
    "    )\n",
    "\n",
    "prompt = ChatPromptTemplate.from_messages(\n",
    "    [\n",
    "        (\n",
    "            \"system\",\n",
    "            \"You are extracting course, professors, requirements, project entities from the text.\",\n",
    "        ),\n",
    "        (\n",
    "            \"human\",\n",
    "            \"Use the given format to extract information from the following \"\n",
    "            \"input: {question}\",\n",
    "        ),\n",
    "    ]\n",
    ")\n",
    "\n",
    "entity_chain = prompt | llm.with_structured_output(Entities)"
   ]
  },
  {
   "cell_type": "code",
   "execution_count": null,
   "metadata": {
    "id": "V1jRiI6G0J6P"
   },
   "outputs": [],
   "source": [
    "def generate_full_text_query(input: str) -> str:\n",
    "    \"\"\"\n",
    "    Generate a full-text search query for a given input string.\n",
    "\n",
    "    This function constructs a query string suitable for a full-text search.\n",
    "    It processes the input string by splitting it into words and appending a\n",
    "    similarity threshold (~2 changed characters) to each word, then combines\n",
    "    them using the AND operator. Useful for mapping entities from user questions\n",
    "    to database values, and allows for some misspelings.\n",
    "    \"\"\"\n",
    "    full_text_query = \"\"\n",
    "    words = [el for el in remove_lucene_chars(input).split() if el]\n",
    "    for word in words[:-1]:\n",
    "        full_text_query += f\" {word}~2 AND\"\n",
    "    full_text_query += f\" {words[-1]}~2\"\n",
    "    return full_text_query.strip()\n",
    "\n",
    "# Fulltext index query\n",
    "def structured_retriever(question: str) -> str:\n",
    "    \"\"\"\n",
    "    Collects the neighborhood of entities mentioned\n",
    "    in the question\n",
    "    \"\"\"\n",
    "    result = \"\"\n",
    "    entities = entity_chain.invoke({\"question\": question})\n",
    "    for entity in entities.names:\n",
    "        response = graph.query(\n",
    "            \"\"\"CALL db.index.fulltext.queryNodes('entity', $query, {limit:2})\n",
    "            YIELD node,score\n",
    "            CALL {\n",
    "              WITH node\n",
    "              MATCH (node)-[r:!MENTIONS]->(neighbor)\n",
    "              RETURN node.id + ' - ' + type(r) + ' -> ' + neighbor.id AS output\n",
    "              UNION ALL\n",
    "              WITH node\n",
    "              MATCH (node)<-[r:!MENTIONS]-(neighbor)\n",
    "              RETURN neighbor.id + ' - ' + type(r) + ' -> ' +  node.id AS output\n",
    "            }\n",
    "            RETURN output LIMIT 50\n",
    "            \"\"\",\n",
    "            {\"query\": generate_full_text_query(entity)},\n",
    "        )\n",
    "        result += \"\\n\".join([el['output'] for el in response])\n",
    "    return result"
   ]
  },
  {
   "cell_type": "code",
   "execution_count": null,
   "metadata": {
    "id": "C1ftDuLy0P8X"
   },
   "outputs": [],
   "source": [
    "def retriever(question: str):\n",
    "    print(f\"Search query: {question}\")\n",
    "    structured_data = structured_retriever(question)\n",
    "    unstructured_data = [el.page_content for el in vector_index.similarity_search(question)]\n",
    "    final_data = f\"\"\"Structured data:\n",
    "{structured_data}\n",
    "Unstructured data:\n",
    "{\"#Document \". join(unstructured_data)}\n",
    "    \"\"\"\n",
    "    return final_data"
   ]
  },
  {
   "cell_type": "code",
   "execution_count": null,
   "metadata": {
    "id": "azltkyJN0U_I"
   },
   "outputs": [],
   "source": [
    "# Condense a chat history and follow-up question into a standalone question\n",
    "_template = \"\"\"Given the following conversation and a follow up question, rephrase the follow up question to be a standalone question,\n",
    "in its original language.\n",
    "Chat History:\n",
    "{chat_history}\n",
    "Follow Up Input: {question}\n",
    "Standalone question:\"\"\"  # noqa: E501\n",
    "CONDENSE_QUESTION_PROMPT = PromptTemplate.from_template(_template)\n",
    "\n",
    "def _format_chat_history(chat_history: List[Tuple[str, str]]) -> List:\n",
    "    buffer = []\n",
    "    for human, ai in chat_history:\n",
    "        buffer.append(HumanMessage(content=human))\n",
    "        buffer.append(AIMessage(content=ai))\n",
    "    return buffer\n",
    "\n",
    "_search_query = RunnableBranch(\n",
    "    # If input includes chat_history, we condense it with the follow-up question\n",
    "    (\n",
    "        RunnableLambda(lambda x: bool(x.get(\"chat_history\"))).with_config(\n",
    "            run_name=\"HasChatHistoryCheck\"\n",
    "        ),  # Condense follow-up question and chat into a standalone_question\n",
    "        RunnablePassthrough.assign(\n",
    "            chat_history=lambda x: _format_chat_history(x[\"chat_history\"])\n",
    "        )\n",
    "        | CONDENSE_QUESTION_PROMPT\n",
    "        | ChatOpenAI(temperature=0)\n",
    "        | StrOutputParser(),\n",
    "    ),\n",
    "    # Else, we have no chat history, so just pass through the question\n",
    "    RunnableLambda(lambda x : x[\"question\"]),\n",
    ")"
   ]
  },
  {
   "cell_type": "code",
   "execution_count": null,
   "metadata": {
    "id": "Bru0C7ox0aJY"
   },
   "outputs": [],
   "source": [
    "# Answer the question based only on the following context\n",
    "template = \"\"\"Answer the query:\n",
    "{context}\n",
    "\n",
    "Question: {question}\n",
    "Use natural language and be concise.\n",
    "Answer:\"\"\"\n",
    "prompt = ChatPromptTemplate.from_template(template)\n",
    "\n",
    "chain = (\n",
    "    RunnableParallel(\n",
    "        {\n",
    "            \"context\": _search_query | retriever,\n",
    "            \"question\": RunnablePassthrough(),\n",
    "        }\n",
    "    )\n",
    "    | prompt\n",
    "    | llm\n",
    "    | StrOutputParser()\n",
    ")"
   ]
  },
  {
   "cell_type": "markdown",
   "metadata": {
    "id": "oBOP7MYrV3Af"
   },
   "source": []
  },
  {
   "cell_type": "code",
   "execution_count": null,
   "metadata": {
    "colab": {
     "base_uri": "https://localhost:8080/",
     "height": 53
    },
    "id": "Xv4LdswWPvZe",
    "outputId": "638afbe5-8ff8-4811-8024-ece7f5bc337e"
   },
   "outputs": [
    {
     "name": "stdout",
     "output_type": "stream",
     "text": [
      "Search query: What is the latest version of iphone?\n"
     ]
    },
    {
     "data": {
      "application/vnd.google.colaboratory.intrinsic+json": {
       "type": "string"
      },
      "text/plain": [
       "'The latest version of the iPhone is the iPhone 16 Pro.'"
      ]
     },
     "execution_count": 72,
     "metadata": {},
     "output_type": "execute_result"
    }
   ],
   "source": [
    "chain.invoke({\"question\": \"What is the latest version of iphone?\"})"
   ]
  },
  {
   "cell_type": "code",
   "execution_count": null,
   "metadata": {
    "colab": {
     "base_uri": "https://localhost:8080/",
     "height": 70
    },
    "id": "L5C9R3Pp0lrw",
    "outputId": "0d36e344-97f4-4da1-d838-40f8d3fde01f"
   },
   "outputs": [
    {
     "name": "stdout",
     "output_type": "stream",
     "text": [
      "Search query: What is the cost of iphone 16 pro?\n"
     ]
    },
    {
     "data": {
      "application/vnd.google.colaboratory.intrinsic+json": {
       "type": "string"
      },
      "text/plain": [
       "'The cost of the iPhone 16 Pro varies based on the trade-in value of your smartphone. With AT&T, you can receive credits of $1000, $830, or $350 for trading in an eligible device, while Boost Mobile offers $1000 in bill credits over 36 months. Verizon also provides bill credits for trading in an eligible device.'"
      ]
     },
     "execution_count": 74,
     "metadata": {},
     "output_type": "execute_result"
    }
   ],
   "source": [
    "#True Positive\n",
    "chain.invoke({\"question\": \"What is the cost of iphone 16 pro?\"})"
   ]
  },
  {
   "cell_type": "code",
   "execution_count": null,
   "metadata": {
    "id": "QAd4_yQDRQMv"
   },
   "outputs": [],
   "source": [
    "import warnings\n",
    "import logging\n",
    "\n",
    "warnings.filterwarnings(\"ignore\")\n",
    "logging.getLogger(\"neo4j.notifications\").setLevel(logging.ERROR)"
   ]
  },
  {
   "cell_type": "code",
   "execution_count": null,
   "metadata": {
    "colab": {
     "base_uri": "https://localhost:8080/",
     "height": 53
    },
    "id": "duilHxHs1Ac9",
    "outputId": "7d344af7-f9c7-43ad-bc34-7a45b5636b52"
   },
   "outputs": [
    {
     "name": "stdout",
     "output_type": "stream",
     "text": [
      "Search query: What processors power the latest Mac models??\n"
     ]
    },
    {
     "data": {
      "application/vnd.google.colaboratory.intrinsic+json": {
       "type": "string"
      },
      "text/plain": [
       "'The latest Mac models are powered by the M4, M4 Pro, M2 Max, and M2 Ultra chips.'"
      ]
     },
     "execution_count": 75,
     "metadata": {},
     "output_type": "execute_result"
    }
   ],
   "source": [
    "#True Negative\n",
    "chain.invoke({\"question\": \"What processors power the latest Mac models??\"})"
   ]
  },
  {
   "cell_type": "code",
   "execution_count": null,
   "metadata": {
    "colab": {
     "base_uri": "https://localhost:8080/",
     "height": 70
    },
    "id": "S7CARN8C1IRB",
    "outputId": "e3a01a8d-df31-4d20-8101-df182cc8e120"
   },
   "outputs": [
    {
     "name": "stdout",
     "output_type": "stream",
     "text": [
      "Search query: What are the differences between AirPods Pro and AirPods Max??\n"
     ]
    },
    {
     "data": {
      "application/vnd.google.colaboratory.intrinsic+json": {
       "type": "string"
      },
      "text/plain": [
       "'The main differences between AirPods Pro and AirPods Max are that AirPods Pro are in-ear headphones with features like active noise cancellation, personalized spatial audio, and a hearing health experience, while AirPods Max are over-ear headphones with bold sound, five fresh colors, and a higher price point.'"
      ]
     },
     "execution_count": 76,
     "metadata": {},
     "output_type": "execute_result"
    }
   ],
   "source": [
    "# False Negative\n",
    "chain.invoke({\"question\": \"What are the differences between AirPods Pro and AirPods Max??\"})"
   ]
  },
  {
   "cell_type": "code",
   "execution_count": null,
   "metadata": {
    "colab": {
     "base_uri": "https://localhost:8080/",
     "height": 70
    },
    "id": "FR1gMLPx1S0M",
    "outputId": "cd3a40ab-0009-453b-e91f-a661cc35e445"
   },
   "outputs": [
    {
     "name": "stdout",
     "output_type": "stream",
     "text": [
      "Search query: How do I transfer data from my old device to a new Apple product??\n"
     ]
    },
    {
     "data": {
      "application/vnd.google.colaboratory.intrinsic+json": {
       "type": "string"
      },
      "text/plain": [
       "'To transfer data from your old device to a new Apple product, simply download the Move to iOS app on your Android phone. This app allows you to securely transfer contacts, messages, WhatsApp content, photos, videos, email accounts, favorite apps, call history, and more to your new iPhone.'"
      ]
     },
     "execution_count": 77,
     "metadata": {},
     "output_type": "execute_result"
    }
   ],
   "source": [
    "# False Positives\n",
    "chain.invoke({\"question\": \"How do I transfer data from my old device to a new Apple product??\"})"
   ]
  },
  {
   "cell_type": "markdown",
   "metadata": {
    "id": "JHVxM45pR1p5"
   },
   "source": []
  },
  {
   "cell_type": "code",
   "execution_count": null,
   "metadata": {
    "colab": {
     "base_uri": "https://localhost:8080/",
     "height": 87
    },
    "id": "DJRGvroZ1cSJ",
    "outputId": "3b02e336-36a7-4444-b908-0467c63cf2e2"
   },
   "outputs": [
    {
     "name": "stdout",
     "output_type": "stream",
     "text": [
      "Search query: What is the Apple Vision Pro, and how does it work??\n"
     ]
    },
    {
     "data": {
      "application/vnd.google.colaboratory.intrinsic+json": {
       "type": "string"
      },
      "text/plain": [
       "'The Apple Vision Pro is a cutting-edge device that seamlessly blends digital content with your physical space. It incorporates advanced cameras, sensors, speakers, and micro-OLED displays to provide a unique viewing experience. It enables users to work, watch, connect, and visualize data in revolutionary ways through spatial computing technology. The device transforms the way users interact with content, enhances it with spatial audio, and brings 3D objects to life. Additionally, it supports features like SharePlay, Mac Virtual Display, and Facetime collaboration, making it a versatile tool for productivity and entertainment.'"
      ]
     },
     "execution_count": 78,
     "metadata": {},
     "output_type": "execute_result"
    }
   ],
   "source": [
    "chain.invoke({\"question\": \"What is the Apple Vision Pro, and how does it work??\"})"
   ]
  },
  {
   "cell_type": "code",
   "execution_count": null,
   "metadata": {
    "colab": {
     "base_uri": "https://localhost:8080/",
     "height": 53
    },
    "id": "Q784P6LWt-ua",
    "outputId": "68a7b386-be99-4176-f9d7-3c846192e8df"
   },
   "outputs": [
    {
     "name": "stdout",
     "output_type": "stream",
     "text": [
      "Search query: Can Vision Pro be used for gaming? What games are available??\n"
     ]
    },
    {
     "data": {
      "application/vnd.google.colaboratory.intrinsic+json": {
       "type": "string"
      },
      "text/plain": [
       "'Yes, Vision Pro can be used for gaming. Games like Game Room, Kung Fu Panda: School of Chi, and myMako are available for use on Vision Pro.'"
      ]
     },
     "execution_count": 79,
     "metadata": {},
     "output_type": "execute_result"
    }
   ],
   "source": [
    "chain.invoke({\"question\": \"Can Vision Pro be used for gaming? What games are available??\"})"
   ]
  },
  {
   "cell_type": "code",
   "execution_count": null,
   "metadata": {
    "colab": {
     "base_uri": "https://localhost:8080/",
     "height": 53
    },
    "id": "T1x2V51PuENT",
    "outputId": "9d3bd1e2-81a3-49bd-d289-c36ed1229ff7"
   },
   "outputs": [
    {
     "name": "stdout",
     "output_type": "stream",
     "text": [
      "Search query: How does Vision Pro handle multitasking??\n"
     ]
    },
    {
     "data": {
      "application/vnd.google.colaboratory.intrinsic+json": {
       "type": "string"
      },
      "text/plain": [
       "'Apple Vision Pro allows for multitasking by supporting SharePlay in FaceTime, enabling collaboration with colleagues using apps together in real time, and seamlessly bringing in Mac workflows using Mac Virtual Display.'"
      ]
     },
     "execution_count": 80,
     "metadata": {},
     "output_type": "execute_result"
    }
   ],
   "source": [
    "chain.invoke({\"question\": \"How does Vision Pro handle multitasking??\"})"
   ]
  },
  {
   "cell_type": "code",
   "execution_count": null,
   "metadata": {
    "colab": {
     "base_uri": "https://localhost:8080/",
     "height": 53
    },
    "id": "EjgwVXmyvqmM",
    "outputId": "a6760f58-f8ba-4124-e548-7c1991a0fb9e"
   },
   "outputs": [
    {
     "name": "stdout",
     "output_type": "stream",
     "text": [
      "Search query: What is the battery life of the Vision Pro?\n"
     ]
    },
    {
     "data": {
      "application/vnd.google.colaboratory.intrinsic+json": {
       "type": "string"
      },
      "text/plain": [
       "'The battery life of the Vision Pro varies based on use, configuration, and other factors.'"
      ]
     },
     "execution_count": 81,
     "metadata": {},
     "output_type": "execute_result"
    }
   ],
   "source": [
    "chain.invoke({\"question\": \"What is the battery life of the Vision Pro?\"})"
   ]
  },
  {
   "cell_type": "code",
   "execution_count": null,
   "metadata": {
    "id": "XqYs6fTQwoAc"
   },
   "outputs": [],
   "source": []
  },
  {
   "cell_type": "code",
   "execution_count": null,
   "metadata": {
    "colab": {
     "base_uri": "https://localhost:8080/"
    },
    "id": "JlGK3KoFzDRZ",
    "outputId": "77ef0690-1406-49a1-f1c0-6262813b7967"
   },
   "outputs": [
    {
     "name": "stdout",
     "output_type": "stream",
     "text": [
      "Overwriting main.py\n"
     ]
    }
   ],
   "source": [
    "%%writefile main.py\n",
    "\n",
    "from langchain_core.runnables import (\n",
    "    RunnableBranch,\n",
    "    RunnableLambda,\n",
    "    RunnableParallel,\n",
    "    RunnablePassthrough,\n",
    ")\n",
    "from langchain_core.prompts import ChatPromptTemplate\n",
    "from langchain_core.prompts.prompt import PromptTemplate\n",
    "from langchain_core.pydantic_v1 import BaseModel, Field\n",
    "from typing import Tuple, List, Optional\n",
    "from langchain_core.messages import AIMessage, HumanMessage\n",
    "from langchain_core.output_parsers import StrOutputParser\n",
    "import os\n",
    "from langchain_community.graphs import Neo4jGraph\n",
    "from langchain.text_splitter import TokenTextSplitter\n",
    "from langchain_openai import ChatOpenAI\n",
    "from langchain_experimental.graph_transformers import LLMGraphTransformer\n",
    "from neo4j import GraphDatabase\n",
    "from yfiles_jupyter_graphs import GraphWidget\n",
    "from langchain_community.vectorstores import Neo4jVector\n",
    "from langchain_openai import OpenAIEmbeddings\n",
    "from langchain_community.vectorstores.neo4j_vector import remove_lucene_chars\n",
    "from langchain_core.runnables import ConfigurableField, RunnableParallel, RunnablePassthrough\n",
    "\n",
    "\n",
    "try:\n",
    "  import google.colab\n",
    "  from google.colab import output\n",
    "  output.enable_custom_widget_manager()\n",
    "except:\n",
    "  pass\n",
    "\n",
    "os.environ[\"OPENAI_API_KEY\"] = \"sk-\"\n",
    "os.environ[\"NEO4J_URI\"] = \"neo4j+s://..........databases.neo4j.io\"\n",
    "os.environ[\"NEO4J_USERNAME\"] = \"usr\"\n",
    "os.environ[\"NEO4J_PASSWORD\"] = \"pwd\"\n",
    "\n",
    "_search_query = RunnableLambda(lambda x : x[\"question\"])\n",
    "\n",
    "\n",
    "graph = Neo4jGraph()\n",
    "\n",
    "llm=ChatOpenAI(temperature=0, model_name=\"gpt-3.5-turbo-0125\") # gpt-4-0125-preview occasionally has issues\n",
    "llm_transformer = LLMGraphTransformer(llm=llm)\n",
    "\n",
    "vector_index = Neo4jVector.from_existing_graph(\n",
    "    OpenAIEmbeddings(),\n",
    "    search_type=\"hybrid\",\n",
    "    node_label=\"Document\",\n",
    "    text_node_properties=[\"text\"],\n",
    "    embedding_node_property=\"embedding\"\n",
    ")\n",
    "\n",
    "\n",
    "graph.query(\n",
    "    \"CREATE FULLTEXT INDEX entity IF NOT EXISTS FOR (e:__Entity__) ON EACH [e.id]\")\n",
    "\n",
    "# Extract entities from text\n",
    "class Entities(BaseModel):\n",
    "    \"\"\"Identifying information about entities.\"\"\"\n",
    "\n",
    "    names: List[str] = Field(\n",
    "        ...,\n",
    "        description=\"All the courses, requirements, or business entities that \"\n",
    "        \"appear in the text\",\n",
    "    )\n",
    "\n",
    "prompt = ChatPromptTemplate.from_messages(\n",
    "    [\n",
    "        (\n",
    "            \"system\",\n",
    "            \"You are extracting course, professors, requirements, project entities from the text.\",\n",
    "        ),\n",
    "        (\n",
    "            \"human\",\n",
    "            \"Use the given format to extract information from the following \"\n",
    "            \"input: {question}\",\n",
    "        ),\n",
    "    ]\n",
    ")\n",
    "\n",
    "entity_chain = prompt | llm.with_structured_output(Entities)\n",
    "\n",
    "def generate_full_text_query(input: str) -> str:\n",
    "    \"\"\"\n",
    "    Generate a full-text search query for a given input string.\n",
    "\n",
    "    This function constructs a query string suitable for a full-text search.\n",
    "    It processes the input string by splitting it into words and appending a\n",
    "    similarity threshold (~2 changed characters) to each word, then combines\n",
    "    them using the AND operator. Useful for mapping entities from user questions\n",
    "    to database values, and allows for some misspelings.\n",
    "    \"\"\"\n",
    "    full_text_query = \"\"\n",
    "    words = [el for el in remove_lucene_chars(input).split() if el]\n",
    "    for word in words[:-1]:\n",
    "        full_text_query += f\" {word}~2 AND\"\n",
    "    full_text_query += f\" {words[-1]}~2\"\n",
    "    return full_text_query.strip()\n",
    "\n",
    "# Fulltext index query\n",
    "def structured_retriever(question: str) -> str:\n",
    "    \"\"\"\n",
    "    Collects the neighborhood of entities mentioned\n",
    "    in the question\n",
    "    \"\"\"\n",
    "    result = \"\"\n",
    "    entities = entity_chain.invoke({\"question\": question})\n",
    "    for entity in entities.names:\n",
    "        response = graph.query(\n",
    "            \"\"\"CALL db.index.fulltext.queryNodes('entity', $query, {limit:2})\n",
    "            YIELD node,score\n",
    "            CALL {\n",
    "              WITH node\n",
    "              MATCH (node)-[r:!MENTIONS]->(neighbor)\n",
    "              RETURN node.id + ' - ' + type(r) + ' -> ' + neighbor.id AS output\n",
    "              UNION ALL\n",
    "              WITH node\n",
    "              MATCH (node)<-[r:!MENTIONS]-(neighbor)\n",
    "              RETURN neighbor.id + ' - ' + type(r) + ' -> ' +  node.id AS output\n",
    "            }\n",
    "            RETURN output LIMIT 50\n",
    "            \"\"\",\n",
    "            {\"query\": generate_full_text_query(entity)},\n",
    "        )\n",
    "        result += \"\\n\".join([el['output'] for el in response])\n",
    "    return result\n",
    "\n",
    "def retriever(question: str):\n",
    "    print(f\"Search query: {question}\")\n",
    "    structured_data = structured_retriever(question)\n",
    "    unstructured_data = [el.page_content for el in vector_index.similarity_search(question)]\n",
    "    final_data = f\"\"\" Structured data: {structured_data} Unstructured data: {\"#Document \". join(unstructured_data)}  \"\"\"\n",
    "    return final_data\n",
    "\n",
    "\n",
    "def answerquery(question: str):\n",
    "  template = \"\"\"Answer the question based only on the following context:\n",
    "  {context}\n",
    "\n",
    "  Question: {question}\n",
    "  Use natural language and be concise.\n",
    "  Answer:\"\"\"\n",
    "  prompt = ChatPromptTemplate.from_template(template)\n",
    "\n",
    "  chain = (\n",
    "      RunnableParallel(\n",
    "          {\n",
    "              \"context\": _search_query | retriever,\n",
    "              \"question\": RunnablePassthrough(),\n",
    "          }\n",
    "      )\n",
    "      | prompt\n",
    "      | llm\n",
    "      | StrOutputParser()\n",
    "  )\n",
    "\n",
    "  return chain.invoke(({\"question\": question}))\n"
   ]
  },
  {
   "cell_type": "code",
   "execution_count": null,
   "metadata": {
    "id": "Y9A8Mw1WSZie"
   },
   "outputs": [],
   "source": []
  },
  {
   "cell_type": "code",
   "execution_count": null,
   "metadata": {
    "colab": {
     "base_uri": "https://localhost:8080/"
    },
    "id": "pFXRTzY3a1-U",
    "outputId": "9b53ae95-879b-46e6-801a-d3c5462f10bb"
   },
   "outputs": [
    {
     "name": "stdout",
     "output_type": "stream",
     "text": [
      "Overwriting app.py\n"
     ]
    }
   ],
   "source": [
    "%%writefile app.py\n",
    "\n",
    "import streamlit as st\n",
    "from main import answerquery\n",
    "\n",
    "st.title(\"AppleIQ QA Chatbot\")\n",
    "\n",
    "# Initialize chat history\n",
    "if \"messages\" not in st.session_state:\n",
    "    st.session_state.messages = []\n",
    "\n",
    "# Display chat messages from history on app rerun\n",
    "for message in st.session_state.messages:\n",
    "    with st.chat_message(message[\"role\"]):\n",
    "        st.markdown(message[\"content\"])\n",
    "\n",
    "# React to user input\n",
    "if prompt := st.text_input(\"What is up?\"):\n",
    "    # Display user message in chat message container\n",
    "    st.chat_message(\"user\").markdown(prompt)\n",
    "    # Add user message to chat history\n",
    "    st.session_state.messages.append({\"role\": \"user\", \"content\": prompt})\n",
    "\n",
    "    response = answerquery(prompt)\n",
    "    # Display assistant response in chat message container\n",
    "    with st.chat_message(\"assistant\"):\n",
    "        st.markdown(response)\n",
    "    # Add assistant response to chat history\n",
    "    st.session_state.messages.append({\"role\": \"assistant\", \"content\": response})"
   ]
  },
  {
   "cell_type": "code",
   "execution_count": null,
   "metadata": {
    "colab": {
     "base_uri": "https://localhost:8080/"
    },
    "id": "XSa1vLuu1xyT",
    "outputId": "84797a6e-c3c6-4bca-b39a-fd0bf7ca6229"
   },
   "outputs": [
    {
     "name": "stdout",
     "output_type": "stream",
     "text": [
      "34.72.232.82\n",
      "\u001b[1G\u001b[0K⠙\u001b[1G\u001b[0Kyour url is: https://fine-ravens-stick.loca.lt\n"
     ]
    }
   ],
   "source": [
    "!streamlit run app.py &>/content/logs.txt & npx localtunnel --port 8501 & curl icanhazip.com"
   ]
  },
  {
   "cell_type": "code",
   "execution_count": null,
   "metadata": {
    "colab": {
     "base_uri": "https://localhost:8080/"
    },
    "id": "-TbrxEhTS4SG",
    "outputId": "36326d48-f997-46ee-993c-489f29fea71e"
   },
   "outputs": [
    {
     "name": "stdout",
     "output_type": "stream",
     "text": [
      "\u001b[1G\u001b[0K⠙\u001b[1G\u001b[0K⠹\u001b[1G\u001b[0K⠸\u001b[1G\u001b[0K⠼\u001b[1G\u001b[0K⠴\u001b[1G\u001b[0K⠦\u001b[1G\u001b[0K⠧\u001b[1G\u001b[0K⠇\u001b[1G\u001b[0K⠏\u001b[1G\u001b[0K⠋\u001b[1G\u001b[0K⠙\u001b[1G\u001b[0K⠹\u001b[1G\u001b[0K⠸\u001b[1G\u001b[0K⠼\u001b[1G\u001b[0K⠴\u001b[1G\u001b[0K⠦\u001b[1G\u001b[0K⠧\u001b[1G\u001b[0K⠇\u001b[1G\u001b[0K⠏\u001b[1G\u001b[0K⠋\u001b[1G\u001b[0K⠙\u001b[1G\u001b[0K⠹\u001b[1G\u001b[0K⠸\u001b[1G\u001b[0K⠼\u001b[1G\u001b[0K⠴\u001b[1G\u001b[0K⠦\u001b[1G\u001b[0K⠧\u001b[1G\u001b[0K⠇\u001b[1G\u001b[0K⠏\u001b[1G\u001b[0K⠋\u001b[1G\u001b[0K⠙\u001b[1G\u001b[0K⠹\u001b[1G\u001b[0K⠸\u001b[1G\u001b[0K⠼\u001b[1G\u001b[0K⠴\u001b[1G\u001b[0K⠦\u001b[1G\u001b[0K⠧\u001b[1G\u001b[0K⠇\u001b[1G\u001b[0K⠏\u001b[1G\u001b[0K⠋\u001b[1G\u001b[0K⠙\u001b[1G\u001b[0K⠹\u001b[1G\u001b[0K⠸\u001b[1G\u001b[0K⠼\u001b[1G\u001b[0K⠴\u001b[1G\u001b[0K⠦\u001b[1G\u001b[0K⠧\u001b[1G\u001b[0K⠇\u001b[1G\u001b[0K⠏\u001b[1G\u001b[0K⠋\u001b[1G\u001b[0K⠙\u001b[1G\u001b[0K⠹\u001b[1G\u001b[0K⠸\u001b[1G\u001b[0K⠼\u001b[1G\u001b[0K\n",
      "added 22 packages, and audited 23 packages in 5s\n",
      "\u001b[1G\u001b[0K⠼\u001b[1G\u001b[0K\n",
      "\u001b[1G\u001b[0K⠼\u001b[1G\u001b[0K3 packages are looking for funding\n",
      "\u001b[1G\u001b[0K⠼\u001b[1G\u001b[0K  run `npm fund` for details\n",
      "\u001b[1G\u001b[0K⠼\u001b[1G\u001b[0K\n",
      "2 \u001b[33m\u001b[1mmoderate\u001b[22m\u001b[39m severity vulnerabilities\n",
      "\n",
      "To address all issues, run:\n",
      "  npm audit fix\n",
      "\n",
      "Run `npm audit` for details.\n",
      "\u001b[1G\u001b[0K⠼\u001b[1G\u001b[0K"
     ]
    }
   ],
   "source": [
    "!npm install localtunnel"
   ]
  },
  {
   "cell_type": "code",
   "execution_count": null,
   "metadata": {
    "colab": {
     "base_uri": "https://localhost:8080/"
    },
    "id": "K6xzbIsbS8uk",
    "outputId": "dd304619-8748-4a20-a38d-d2a81db8d855"
   },
   "outputs": [
    {
     "name": "stdout",
     "output_type": "stream",
     "text": [
      "\u001b[1G\u001b[0K⠙\u001b[1G\u001b[0K⠹\u001b[1G\u001b[0K⠸\u001b[1G\u001b[0K⠼\u001b[1G\u001b[0K⠴\u001b[1G\u001b[0K⠦\u001b[1G\u001b[0K⠧\u001b[1G\u001b[0K⠇\u001b[1G\u001b[0K⠏\u001b[1G\u001b[0K⠋\u001b[1G\u001b[0K⠙\u001b[1G\u001b[0K⠹\u001b[1G\u001b[0K⠸\u001b[1G\u001b[0K⠼\u001b[1G\u001b[0K⠴\u001b[1G\u001b[0K⠦\u001b[1G\u001b[0K⠧\u001b[1G\u001b[0K⠇\u001b[1G\u001b[0K⠏\u001b[1G\u001b[0K⠋\u001b[1G\u001b[0K⠙\u001b[1G\u001b[0K⠹\u001b[1G\u001b[0K⠸\u001b[1G\u001b[0K⠼\u001b[1G\u001b[0K\n",
      "removed 22 packages, and audited 1 package in 2s\n",
      "\u001b[1G\u001b[0K⠼\u001b[1G\u001b[0K\n",
      "found \u001b[32m\u001b[1m0\u001b[22m\u001b[39m vulnerabilities\n",
      "\u001b[1G\u001b[0K⠼\u001b[1G\u001b[0K"
     ]
    }
   ],
   "source": [
    "!npm uninstall localtunnel"
   ]
  }
 ],
 "metadata": {
  "colab": {
   "provenance": []
  },
  "kernelspec": {
   "display_name": "Python 3",
   "name": "python3"
  },
  "language_info": {
   "codemirror_mode": {
    "name": "ipython",
    "version": 3
   },
   "file_extension": ".py",
   "mimetype": "text/x-python",
   "name": "python",
   "nbconvert_exporter": "python",
   "pygments_lexer": "ipython3",
   "version": "3.12.0"
  },
  "widgets": {
   "application/vnd.jupyter.widget-state+json": {
    "0c49f56dd28247ef9e098ccb3317aad9": {
     "model_module": "yfiles-jupyter-graphs",
     "model_module_version": "^1.9.0",
     "model_name": "GraphModel",
     "state": {
      "_context_pane_mapping": [
       {
        "id": "Neighborhood",
        "title": "Neighborhood"
       },
       {
        "id": "Data",
        "title": "Data"
       },
       {
        "id": "Search",
        "title": "Search"
       },
       {
        "id": "About",
        "title": "About"
       }
      ],
      "_data_importer": "neo4j",
      "_directed": true,
      "_dom_classes": [],
      "_edges": [
       {
        "color": "#607D8B",
        "directed": true,
        "end": 11,
        "id": 1152922604118474800,
        "label": "DONATION",
        "properties": {
         "label": "DONATION"
        },
        "start": 1,
        "thickness_factor": 1
       },
       {
        "color": "#673AB7",
        "directed": true,
        "end": 2,
        "id": 1152923703630102500,
        "label": "EVENT",
        "properties": {
         "label": "EVENT"
        },
        "start": 1,
        "thickness_factor": 1
       },
       {
        "color": "#CDDC39",
        "directed": true,
        "end": 13,
        "id": 1152925902653358000,
        "label": "SERVICE_PROVIDER",
        "properties": {
         "label": "SERVICE_PROVIDER"
        },
        "start": 1,
        "thickness_factor": 1
       },
       {
        "color": "#9E9E9E",
        "directed": true,
        "end": 14,
        "id": 1152927002164985900,
        "label": "CARD_PROVIDER",
        "properties": {
         "label": "CARD_PROVIDER"
        },
        "start": 1,
        "thickness_factor": 1
       },
       {
        "color": "#9C27B0",
        "directed": true,
        "end": 15,
        "id": 1152928101676613600,
        "label": "OFFER",
        "properties": {
         "label": "OFFER"
        },
        "start": 1,
        "thickness_factor": 1
       },
       {
        "color": "#9C27B0",
        "directed": true,
        "end": 16,
        "id": 1155179901490299000,
        "label": "OFFER",
        "properties": {
         "label": "OFFER"
        },
        "start": 1,
        "thickness_factor": 1
       },
       {
        "color": "#2196F3",
        "directed": true,
        "end": 341,
        "id": 6917548818850382000,
        "label": "ISSUED_BY",
        "properties": {
         "label": "ISSUED_BY"
        },
        "start": 1,
        "thickness_factor": 1
       },
       {
        "color": "#4CAF50",
        "directed": true,
        "end": 3,
        "id": 1164206891954339800,
        "label": "AVAILABLE_IN_BETA",
        "properties": {
         "label": "AVAILABLE_IN_BETA"
        },
        "start": 1,
        "thickness_factor": 1
       },
       {
        "color": "#4CAF50",
        "directed": true,
        "end": 4,
        "id": 1161955092140654600,
        "label": "AVAILABLE_IN_BETA",
        "properties": {
         "label": "AVAILABLE_IN_BETA"
        },
        "start": 1,
        "thickness_factor": 1
       },
       {
        "color": "#4CAF50",
        "directed": true,
        "end": 41,
        "id": 1152947892885913600,
        "label": "AVAILABLE_IN_BETA",
        "properties": {
         "label": "AVAILABLE_IN_BETA"
        },
        "start": 1,
        "thickness_factor": 1
       },
       {
        "color": "#4CAF50",
        "directed": true,
        "end": 42,
        "id": 1155199692699598800,
        "label": "AVAILABLE_IN_BETA",
        "properties": {
         "label": "AVAILABLE_IN_BETA"
        },
        "start": 1,
        "thickness_factor": 1
       },
       {
        "color": "#4CAF50",
        "directed": true,
        "end": 43,
        "id": 1157451492513284000,
        "label": "AVAILABLE_IN_BETA",
        "properties": {
         "label": "AVAILABLE_IN_BETA"
        },
        "start": 1,
        "thickness_factor": 1
       },
       {
        "color": "#4CAF50",
        "directed": true,
        "end": 44,
        "id": 1159703292326969300,
        "label": "AVAILABLE_IN_BETA",
        "properties": {
         "label": "AVAILABLE_IN_BETA"
        },
        "start": 1,
        "thickness_factor": 1
       },
       {
        "color": "#4CAF50",
        "directed": true,
        "end": 45,
        "id": 1166458691768025000,
        "label": "AVAILABLE_IN_BETA",
        "properties": {
         "label": "AVAILABLE_IN_BETA"
        },
        "start": 1,
        "thickness_factor": 1
       },
       {
        "color": "#4CAF50",
        "directed": true,
        "end": 46,
        "id": 1168710491581710300,
        "label": "AVAILABLE_IN_BETA",
        "properties": {
         "label": "AVAILABLE_IN_BETA"
        },
        "start": 1,
        "thickness_factor": 1
       },
       {
        "color": "#F44336",
        "directed": true,
        "end": 29,
        "id": 1155200792211226600,
        "label": "AVAILABLE_IN_DECEMBER",
        "properties": {
         "label": "AVAILABLE_IN_DECEMBER"
        },
        "start": 1,
        "thickness_factor": 1
       },
       {
        "color": "#F44336",
        "directed": true,
        "end": 47,
        "id": 1152948992397541400,
        "label": "AVAILABLE_IN_DECEMBER",
        "properties": {
         "label": "AVAILABLE_IN_DECEMBER"
        },
        "start": 1,
        "thickness_factor": 1
       },
       {
        "color": "#F44336",
        "directed": true,
        "end": 48,
        "id": 1157452592024912000,
        "label": "AVAILABLE_IN_DECEMBER",
        "properties": {
         "label": "AVAILABLE_IN_DECEMBER"
        },
        "start": 1,
        "thickness_factor": 1
       },
       {
        "color": "#F44336",
        "directed": true,
        "end": 49,
        "id": 1159704391838597000,
        "label": "AVAILABLE_IN_DECEMBER",
        "properties": {
         "label": "AVAILABLE_IN_DECEMBER"
        },
        "start": 1,
        "thickness_factor": 1
       },
       {
        "color": "#F44336",
        "directed": true,
        "end": 50,
        "id": 1161956191652282400,
        "label": "AVAILABLE_IN_DECEMBER",
        "properties": {
         "label": "AVAILABLE_IN_DECEMBER"
        },
        "start": 1,
        "thickness_factor": 1
       },
       {
        "color": "#F44336",
        "directed": true,
        "end": 51,
        "id": 1164207991465967600,
        "label": "AVAILABLE_IN_DECEMBER",
        "properties": {
         "label": "AVAILABLE_IN_DECEMBER"
        },
        "start": 1,
        "thickness_factor": 1
       },
       {
        "color": "#607D8B",
        "directed": true,
        "end": 52,
        "id": 1152950091909169200,
        "label": "COMING_OVER_THE_NEXT_YEAR",
        "properties": {
         "label": "COMING_OVER_THE_NEXT_YEAR"
        },
        "start": 1,
        "thickness_factor": 1
       },
       {
        "color": "#607D8B",
        "directed": true,
        "end": 53,
        "id": 1155201891722854400,
        "label": "COMING_OVER_THE_NEXT_YEAR",
        "properties": {
         "label": "COMING_OVER_THE_NEXT_YEAR"
        },
        "start": 1,
        "thickness_factor": 1
       },
       {
        "color": "#607D8B",
        "directed": true,
        "end": 54,
        "id": 1157453691536539600,
        "label": "COMING_OVER_THE_NEXT_YEAR",
        "properties": {
         "label": "COMING_OVER_THE_NEXT_YEAR"
        },
        "start": 1,
        "thickness_factor": 1
       },
       {
        "color": "#607D8B",
        "directed": true,
        "end": 55,
        "id": 1159705491350225000,
        "label": "COMING_OVER_THE_NEXT_YEAR",
        "properties": {
         "label": "COMING_OVER_THE_NEXT_YEAR"
        },
        "start": 1,
        "thickness_factor": 1
       },
       {
        "color": "#607D8B",
        "directed": true,
        "end": 56,
        "id": 1161957291163910100,
        "label": "COMING_OVER_THE_NEXT_YEAR",
        "properties": {
         "label": "COMING_OVER_THE_NEXT_YEAR"
        },
        "start": 1,
        "thickness_factor": 1
       },
       {
        "color": "#607D8B",
        "directed": true,
        "end": 57,
        "id": 1164209090977595400,
        "label": "COMING_OVER_THE_NEXT_YEAR",
        "properties": {
         "label": "COMING_OVER_THE_NEXT_YEAR"
        },
        "start": 1,
        "thickness_factor": 1
       },
       {
        "color": "#607D8B",
        "directed": true,
        "end": 58,
        "id": 1166460890791280600,
        "label": "COMING_OVER_THE_NEXT_YEAR",
        "properties": {
         "label": "COMING_OVER_THE_NEXT_YEAR"
        },
        "start": 1,
        "thickness_factor": 1
       },
       {
        "color": "#607D8B",
        "directed": true,
        "end": 59,
        "id": 1168712690604966000,
        "label": "COMING_OVER_THE_NEXT_YEAR",
        "properties": {
         "label": "COMING_OVER_THE_NEXT_YEAR"
        },
        "start": 1,
        "thickness_factor": 1
       },
       {
        "color": "#607D8B",
        "directed": true,
        "end": 60,
        "id": 1170964490418651100,
        "label": "COMING_OVER_THE_NEXT_YEAR",
        "properties": {
         "label": "COMING_OVER_THE_NEXT_YEAR"
        },
        "start": 1,
        "thickness_factor": 1
       },
       {
        "color": "#607D8B",
        "directed": true,
        "end": 61,
        "id": 1173216290232336400,
        "label": "COMING_OVER_THE_NEXT_YEAR",
        "properties": {
         "label": "COMING_OVER_THE_NEXT_YEAR"
        },
        "start": 1,
        "thickness_factor": 1
       },
       {
        "color": "#607D8B",
        "directed": true,
        "end": 62,
        "id": 1175468090046021600,
        "label": "COMING_OVER_THE_NEXT_YEAR",
        "properties": {
         "label": "COMING_OVER_THE_NEXT_YEAR"
        },
        "start": 1,
        "thickness_factor": 1
       },
       {
        "color": "#673AB7",
        "directed": true,
        "end": 63,
        "id": 1152951191420797000,
        "label": "SUBSCRIPTION_REQUIRED",
        "properties": {
         "label": "SUBSCRIPTION_REQUIRED"
        },
        "start": 1,
        "thickness_factor": 1
       },
       {
        "color": "#673AB7",
        "directed": true,
        "end": 64,
        "id": 1155202991234482200,
        "label": "SUBSCRIPTION_REQUIRED",
        "properties": {
         "label": "SUBSCRIPTION_REQUIRED"
        },
        "start": 1,
        "thickness_factor": 1
       },
       {
        "color": "#673AB7",
        "directed": true,
        "end": 65,
        "id": 1157454791048167400,
        "label": "SUBSCRIPTION_REQUIRED",
        "properties": {
         "label": "SUBSCRIPTION_REQUIRED"
        },
        "start": 1,
        "thickness_factor": 1
       },
       {
        "color": "#673AB7",
        "directed": true,
        "end": 66,
        "id": 1159706590861852700,
        "label": "SUBSCRIPTION_REQUIRED",
        "properties": {
         "label": "SUBSCRIPTION_REQUIRED"
        },
        "start": 1,
        "thickness_factor": 1
       },
       {
        "color": "#CDDC39",
        "directed": true,
        "end": 32,
        "id": 1155204090746110000,
        "label": "AVAILABLE",
        "properties": {
         "label": "AVAILABLE"
        },
        "start": 1,
        "thickness_factor": 1
       },
       {
        "color": "#CDDC39",
        "directed": true,
        "end": 67,
        "id": 1152952290932424700,
        "label": "AVAILABLE",
        "properties": {
         "label": "AVAILABLE"
        },
        "start": 1,
        "thickness_factor": 1
       },
       {
        "color": "#CDDC39",
        "directed": true,
        "end": 68,
        "id": 1157455890559795200,
        "label": "AVAILABLE",
        "properties": {
         "label": "AVAILABLE"
        },
        "start": 1,
        "thickness_factor": 1
       },
       {
        "color": "#CDDC39",
        "directed": true,
        "end": 69,
        "id": 1159707690373480400,
        "label": "AVAILABLE",
        "properties": {
         "label": "AVAILABLE"
        },
        "start": 1,
        "thickness_factor": 1
       },
       {
        "color": "#CDDC39",
        "directed": true,
        "end": 70,
        "id": 1161959490187165700,
        "label": "AVAILABLE",
        "properties": {
         "label": "AVAILABLE"
        },
        "start": 1,
        "thickness_factor": 1
       },
       {
        "color": "#CDDC39",
        "directed": true,
        "end": 71,
        "id": 1164211290000851000,
        "label": "AVAILABLE",
        "properties": {
         "label": "AVAILABLE"
        },
        "start": 1,
        "thickness_factor": 1
       },
       {
        "color": "#CDDC39",
        "directed": true,
        "end": 72,
        "id": 1166463089814536200,
        "label": "AVAILABLE",
        "properties": {
         "label": "AVAILABLE"
        },
        "start": 1,
        "thickness_factor": 1
       },
       {
        "color": "#CDDC39",
        "directed": true,
        "end": 73,
        "id": 1168714889628221400,
        "label": "AVAILABLE",
        "properties": {
         "label": "AVAILABLE"
        },
        "start": 1,
        "thickness_factor": 1
       },
       {
        "color": "#CDDC39",
        "directed": true,
        "end": 74,
        "id": 1170966689441906700,
        "label": "AVAILABLE",
        "properties": {
         "label": "AVAILABLE"
        },
        "start": 1,
        "thickness_factor": 1
       },
       {
        "color": "#CDDC39",
        "directed": true,
        "end": 75,
        "id": 1173218489255592000,
        "label": "AVAILABLE",
        "properties": {
         "label": "AVAILABLE"
        },
        "start": 1,
        "thickness_factor": 1
       },
       {
        "color": "#CDDC39",
        "directed": true,
        "end": 76,
        "id": 1175470289069277200,
        "label": "AVAILABLE",
        "properties": {
         "label": "AVAILABLE"
        },
        "start": 1,
        "thickness_factor": 1
       },
       {
        "color": "#CDDC39",
        "directed": true,
        "end": 77,
        "id": 1177722088882962400,
        "label": "AVAILABLE",
        "properties": {
         "label": "AVAILABLE"
        },
        "start": 1,
        "thickness_factor": 1
       },
       {
        "color": "#CDDC39",
        "directed": true,
        "end": 78,
        "id": 1179973888696647700,
        "label": "AVAILABLE",
        "properties": {
         "label": "AVAILABLE"
        },
        "start": 1,
        "thickness_factor": 1
       },
       {
        "color": "#CDDC39",
        "directed": true,
        "end": 79,
        "id": 1182225688510333000,
        "label": "AVAILABLE",
        "properties": {
         "label": "AVAILABLE"
        },
        "start": 1,
        "thickness_factor": 1
       }
      ],
      "_graph_layout": {},
      "_highlight": [],
      "_license": {},
      "_model_module": "yfiles-jupyter-graphs",
      "_model_module_version": "^1.9.0",
      "_model_name": "GraphModel",
      "_neighborhood": {},
      "_nodes": [
       {
        "color": "#2196F3",
        "id": 1,
        "label": "Apple",
        "position": [
         0,
         0
        ],
        "properties": {
         "id": "Apple",
         "label": "Product:Organization:__Entity__:Company:Brand"
        },
        "scale_factor": 1,
        "size": [
         55,
         55
        ],
        "styles": {},
        "type": "#2196F3"
       },
       {
        "color": "#4CAF50",
        "id": 11,
        "label": "Global Fund",
        "position": [
         0,
         0
        ],
        "properties": {
         "id": "Global Fund",
         "label": "Organization:__Entity__:Fund"
        },
        "scale_factor": 1,
        "size": [
         55,
         55
        ],
        "styles": {},
        "type": "#4CAF50"
       },
       {
        "color": "#F44336",
        "id": 2,
        "label": "Applestore",
        "position": [
         0,
         0
        ],
        "properties": {
         "id": "Applestore",
         "label": "__Entity__:Store"
        },
        "scale_factor": 1,
        "size": [
         55,
         55
        ],
        "styles": {},
        "type": "#F44336"
       },
       {
        "color": "#607D8B",
        "id": 13,
        "label": "Apple Payments Services Llc",
        "position": [
         0,
         0
        ],
        "properties": {
         "id": "Apple Payments Services Llc",
         "label": "__Entity__:Subsidiary:Company:Bank"
        },
        "scale_factor": 1,
        "size": [
         55,
         55
        ],
        "styles": {},
        "type": "#607D8B"
       },
       {
        "color": "#673AB7",
        "id": 14,
        "label": "Card Issuer",
        "position": [
         0,
         0
        ],
        "properties": {
         "id": "Card Issuer",
         "label": "Issuer:__Entity__:Entity"
        },
        "scale_factor": 1,
        "size": [
         55,
         55
        ],
        "styles": {},
        "type": "#673AB7"
       },
       {
        "color": "#CDDC39",
        "id": 15,
        "label": "Eligible Products",
        "position": [
         0,
         0
        ],
        "properties": {
         "id": "Eligible Products",
         "label": "Product:__Entity__"
        },
        "scale_factor": 1,
        "size": [
         55,
         55
        ],
        "styles": {},
        "type": "#CDDC39"
       },
       {
        "color": "#9E9E9E",
        "id": 16,
        "label": "Apple Gift Card",
        "position": [
         0,
         0
        ],
        "properties": {
         "id": "Apple Gift Card",
         "label": "Product:__Entity__:Gift card"
        },
        "scale_factor": 1,
        "size": [
         55,
         55
        ],
        "styles": {},
        "type": "#9E9E9E"
       },
       {
        "color": "#9C27B0",
        "id": 341,
        "label": "Goldman Sachs",
        "position": [
         0,
         0
        ],
        "properties": {
         "id": "Goldman Sachs",
         "label": "__Entity__:Company"
        },
        "scale_factor": 1,
        "size": [
         55,
         55
        ],
        "styles": {},
        "type": "#9C27B0"
       },
       {
        "color": "#2196F3",
        "id": 3,
        "label": "Mac",
        "position": [
         0,
         0
        ],
        "properties": {
         "id": "Mac",
         "label": "Product category:Product:__Entity__:Device"
        },
        "scale_factor": 1,
        "size": [
         55,
         55
        ],
        "styles": {},
        "type": "#2196F3"
       },
       {
        "color": "#4CAF50",
        "id": 4,
        "label": "Ipad",
        "position": [
         0,
         0
        ],
        "properties": {
         "id": "Ipad",
         "label": "Product:Device:Product category:Entertainment:__Entity__"
        },
        "scale_factor": 1,
        "size": [
         55,
         55
        ],
        "styles": {},
        "type": "#4CAF50"
       },
       {
        "color": "#F44336",
        "id": 41,
        "label": "Iphone 16",
        "position": [
         0,
         0
        ],
        "properties": {
         "id": "Iphone 16",
         "label": "Iphone model:Product:Iphone:Device:Phone:__Entity__"
        },
        "scale_factor": 1,
        "size": [
         55,
         55
        ],
        "styles": {},
        "type": "#F44336"
       },
       {
        "color": "#607D8B",
        "id": 42,
        "label": "Iphone 15 Pro",
        "position": [
         0,
         0
        ],
        "properties": {
         "id": "Iphone 15 Pro",
         "label": "Phone:Product:__Entity__:Device"
        },
        "scale_factor": 1,
        "size": [
         55,
         55
        ],
        "styles": {},
        "type": "#607D8B"
       },
       {
        "color": "#CDDC39",
        "id": 43,
        "label": "Iphone 15 Pro Max",
        "position": [
         0,
         0
        ],
        "properties": {
         "id": "Iphone 15 Pro Max",
         "label": "Product:__Entity__"
        },
        "scale_factor": 1,
        "size": [
         55,
         55
        ],
        "styles": {},
        "type": "#CDDC39"
       },
       {
        "color": "#CDDC39",
        "id": 44,
        "label": "Ipad Mini (A17 Pro)",
        "position": [
         0,
         0
        ],
        "properties": {
         "id": "Ipad Mini (A17 Pro)",
         "label": "Product:__Entity__"
        },
        "scale_factor": 1,
        "size": [
         55,
         55
        ],
        "styles": {},
        "type": "#CDDC39"
       },
       {
        "color": "#673AB7",
        "id": 45,
        "label": "Siri",
        "position": [
         0,
         0
        ],
        "properties": {
         "id": "Siri",
         "label": "Product:Tool:Ai assistant:Software:Concept:Virtual assistant:__Entity__:Feature"
        },
        "scale_factor": 1,
        "size": [
         55,
         55
        ],
        "styles": {},
        "type": "#673AB7"
       },
       {
        "color": "#CDDC39",
        "id": 46,
        "label": "English",
        "position": [
         0,
         0
        ],
        "properties": {
         "id": "English",
         "label": "Language:__Entity__"
        },
        "scale_factor": 1,
        "size": [
         55,
         55
        ],
        "styles": {},
        "type": "#CDDC39"
       },
       {
        "color": "#9E9E9E",
        "id": 29,
        "label": "Canada",
        "position": [
         0,
         0
        ],
        "properties": {
         "id": "Canada",
         "label": "Region:Location:__Entity__:Country"
        },
        "scale_factor": 1,
        "size": [
         55,
         55
        ],
        "styles": {},
        "type": "#9E9E9E"
       },
       {
        "color": "#9C27B0",
        "id": 47,
        "label": "Australia",
        "position": [
         0,
         0
        ],
        "properties": {
         "id": "Australia",
         "label": "__Entity__:Country"
        },
        "scale_factor": 1,
        "size": [
         55,
         55
        ],
        "styles": {},
        "type": "#9C27B0"
       },
       {
        "color": "#9C27B0",
        "id": 48,
        "label": "Ireland",
        "position": [
         0,
         0
        ],
        "properties": {
         "id": "Ireland",
         "label": "__Entity__:Country"
        },
        "scale_factor": 1,
        "size": [
         55,
         55
        ],
        "styles": {},
        "type": "#9C27B0"
       },
       {
        "color": "#9C27B0",
        "id": 49,
        "label": "New Zealand",
        "position": [
         0,
         0
        ],
        "properties": {
         "id": "New Zealand",
         "label": "__Entity__:Country"
        },
        "scale_factor": 1,
        "size": [
         55,
         55
        ],
        "styles": {},
        "type": "#9C27B0"
       },
       {
        "color": "#9C27B0",
        "id": 50,
        "label": "South Africa",
        "position": [
         0,
         0
        ],
        "properties": {
         "id": "South Africa",
         "label": "__Entity__:Country"
        },
        "scale_factor": 1,
        "size": [
         55,
         55
        ],
        "styles": {},
        "type": "#9C27B0"
       },
       {
        "color": "#9C27B0",
        "id": 51,
        "label": "Uk",
        "position": [
         0,
         0
        ],
        "properties": {
         "id": "Uk",
         "label": "__Entity__:Country"
        },
        "scale_factor": 1,
        "size": [
         55,
         55
        ],
        "styles": {},
        "type": "#9C27B0"
       },
       {
        "color": "#CDDC39",
        "id": 52,
        "label": "Chinese",
        "position": [
         0,
         0
        ],
        "properties": {
         "id": "Chinese",
         "label": "Language:__Entity__"
        },
        "scale_factor": 1,
        "size": [
         55,
         55
        ],
        "styles": {},
        "type": "#CDDC39"
       },
       {
        "color": "#9C27B0",
        "id": 53,
        "label": "India",
        "position": [
         0,
         0
        ],
        "properties": {
         "id": "India",
         "label": "__Entity__:Country"
        },
        "scale_factor": 1,
        "size": [
         55,
         55
        ],
        "styles": {},
        "type": "#9C27B0"
       },
       {
        "color": "#9C27B0",
        "id": 54,
        "label": "Singapore",
        "position": [
         0,
         0
        ],
        "properties": {
         "id": "Singapore",
         "label": "__Entity__:Country"
        },
        "scale_factor": 1,
        "size": [
         55,
         55
        ],
        "styles": {},
        "type": "#9C27B0"
       },
       {
        "color": "#CDDC39",
        "id": 55,
        "label": "French",
        "position": [
         0,
         0
        ],
        "properties": {
         "id": "French",
         "label": "Language:__Entity__"
        },
        "scale_factor": 1,
        "size": [
         55,
         55
        ],
        "styles": {},
        "type": "#CDDC39"
       },
       {
        "color": "#CDDC39",
        "id": 56,
        "label": "German",
        "position": [
         0,
         0
        ],
        "properties": {
         "id": "German",
         "label": "Language:__Entity__"
        },
        "scale_factor": 1,
        "size": [
         55,
         55
        ],
        "styles": {},
        "type": "#CDDC39"
       },
       {
        "color": "#CDDC39",
        "id": 57,
        "label": "Italian",
        "position": [
         0,
         0
        ],
        "properties": {
         "id": "Italian",
         "label": "Language:__Entity__"
        },
        "scale_factor": 1,
        "size": [
         55,
         55
        ],
        "styles": {},
        "type": "#CDDC39"
       },
       {
        "color": "#CDDC39",
        "id": 58,
        "label": "Japanese",
        "position": [
         0,
         0
        ],
        "properties": {
         "id": "Japanese",
         "label": "Language:__Entity__"
        },
        "scale_factor": 1,
        "size": [
         55,
         55
        ],
        "styles": {},
        "type": "#CDDC39"
       },
       {
        "color": "#CDDC39",
        "id": 59,
        "label": "Korean",
        "position": [
         0,
         0
        ],
        "properties": {
         "id": "Korean",
         "label": "Language:__Entity__"
        },
        "scale_factor": 1,
        "size": [
         55,
         55
        ],
        "styles": {},
        "type": "#CDDC39"
       },
       {
        "color": "#CDDC39",
        "id": 60,
        "label": "Portuguese",
        "position": [
         0,
         0
        ],
        "properties": {
         "id": "Portuguese",
         "label": "Language:__Entity__"
        },
        "scale_factor": 1,
        "size": [
         55,
         55
        ],
        "styles": {},
        "type": "#CDDC39"
       },
       {
        "color": "#CDDC39",
        "id": 61,
        "label": "Spanish",
        "position": [
         0,
         0
        ],
        "properties": {
         "id": "Spanish",
         "label": "Language:__Entity__"
        },
        "scale_factor": 1,
        "size": [
         55,
         55
        ],
        "styles": {},
        "type": "#CDDC39"
       },
       {
        "color": "#CDDC39",
        "id": 62,
        "label": "Vietnamese",
        "position": [
         0,
         0
        ],
        "properties": {
         "id": "Vietnamese",
         "label": "Language:__Entity__"
        },
        "scale_factor": 1,
        "size": [
         55,
         55
        ],
        "styles": {},
        "type": "#CDDC39"
       },
       {
        "color": "#2196F3",
        "id": 63,
        "label": "Apple Arcade",
        "position": [
         0,
         0
        ],
        "properties": {
         "id": "Apple Arcade",
         "label": "Gaming platform:__Entity__:Service:Entity"
        },
        "scale_factor": 1,
        "size": [
         55,
         55
        ],
        "styles": {},
        "type": "#2196F3"
       },
       {
        "color": "#4CAF50",
        "id": 64,
        "label": "Apple Fitness+",
        "position": [
         0,
         0
        ],
        "properties": {
         "id": "Apple Fitness+",
         "label": "Subscription service:__Entity__:Service:Entity"
        },
        "scale_factor": 1,
        "size": [
         55,
         55
        ],
        "styles": {},
        "type": "#4CAF50"
       },
       {
        "color": "#F44336",
        "id": 65,
        "label": "Apple Music",
        "position": [
         0,
         0
        ],
        "properties": {
         "id": "Apple Music",
         "label": "__Entity__:Service:Entity"
        },
        "scale_factor": 1,
        "size": [
         55,
         55
        ],
        "styles": {},
        "type": "#F44336"
       },
       {
        "color": "#607D8B",
        "id": 66,
        "label": "Apple Tv+",
        "position": [
         0,
         0
        ],
        "properties": {
         "id": "Apple Tv+",
         "label": "Product:Streaming service:Entity:__Entity__:Service"
        },
        "scale_factor": 1,
        "size": [
         55,
         55
        ],
        "styles": {},
        "type": "#607D8B"
       },
       {
        "color": "#673AB7",
        "id": 32,
        "label": "Apple Card",
        "position": [
         0,
         0
        ],
        "properties": {
         "id": "Apple Card",
         "label": "Product:Credit card:Payment service:Agreement:Entity:__Entity__:Service"
        },
        "scale_factor": 1,
        "size": [
         55,
         55
        ],
        "styles": {},
        "type": "#673AB7"
       },
       {
        "color": "#CDDC39",
        "id": 67,
        "label": "Apple Wallet",
        "position": [
         0,
         0
        ],
        "properties": {
         "id": "Apple Wallet",
         "label": "Product:Wallet:__Entity__:Service:Digital wallet"
        },
        "scale_factor": 1,
        "size": [
         55,
         55
        ],
        "styles": {},
        "type": "#CDDC39"
       },
       {
        "color": "#9E9E9E",
        "id": 68,
        "label": "Apple Pay",
        "position": [
         0,
         0
        ],
        "properties": {
         "id": "Apple Pay",
         "label": "Product:Payment service:Entity:Payment method:__Entity__:Service:Feature"
        },
        "scale_factor": 1,
        "size": [
         55,
         55
        ],
        "styles": {},
        "type": "#9E9E9E"
       },
       {
        "color": "#9C27B0",
        "id": 69,
        "label": "Apple Cash",
        "position": [
         0,
         0
        ],
        "properties": {
         "id": "Apple Cash",
         "label": "Product:Payment service:Entity:Payment method:__Entity__:Service"
        },
        "scale_factor": 1,
        "size": [
         55,
         55
        ],
        "styles": {},
        "type": "#9C27B0"
       },
       {
        "color": "#F44336",
        "id": 70,
        "label": "Apple One",
        "position": [
         0,
         0
        ],
        "properties": {
         "id": "Apple One",
         "label": "__Entity__:Service:Entity"
        },
        "scale_factor": 1,
        "size": [
         55,
         55
        ],
        "styles": {},
        "type": "#F44336"
       },
       {
        "color": "#F44336",
        "id": 71,
        "label": "Apple News+",
        "position": [
         0,
         0
        ],
        "properties": {
         "id": "Apple News+",
         "label": "__Entity__:Service:Entity"
        },
        "scale_factor": 1,
        "size": [
         55,
         55
        ],
        "styles": {},
        "type": "#F44336"
       },
       {
        "color": "#F44336",
        "id": 72,
        "label": "Apple Podcasts",
        "position": [
         0,
         0
        ],
        "properties": {
         "id": "Apple Podcasts",
         "label": "__Entity__:Service:Entity"
        },
        "scale_factor": 1,
        "size": [
         55,
         55
        ],
        "styles": {},
        "type": "#F44336"
       },
       {
        "color": "#F44336",
        "id": 73,
        "label": "Apple Books",
        "position": [
         0,
         0
        ],
        "properties": {
         "id": "Apple Books",
         "label": "__Entity__:Service:Entity"
        },
        "scale_factor": 1,
        "size": [
         55,
         55
        ],
        "styles": {},
        "type": "#F44336"
       },
       {
        "color": "#2196F3",
        "id": 74,
        "label": "App Store",
        "position": [
         0,
         0
        ],
        "properties": {
         "id": "App Store",
         "label": "Application:Entity:App store:__Entity__:Service"
        },
        "scale_factor": 1,
        "size": [
         55,
         55
        ],
        "styles": {},
        "type": "#2196F3"
       },
       {
        "color": "#4CAF50",
        "id": 75,
        "label": "Apple Store",
        "position": [
         0,
         0
        ],
        "properties": {
         "id": "Apple Store",
         "label": "Support:Store:Location:Entity:__Entity__:Service"
        },
        "scale_factor": 1,
        "size": [
         55,
         55
        ],
        "styles": {},
        "type": "#4CAF50"
       },
       {
        "color": "#F44336",
        "id": 76,
        "label": "Genius Bar",
        "position": [
         0,
         0
        ],
        "properties": {
         "id": "Genius Bar",
         "label": "__Entity__:Service:Entity"
        },
        "scale_factor": 1,
        "size": [
         55,
         55
        ],
        "styles": {},
        "type": "#F44336"
       },
       {
        "color": "#F44336",
        "id": 77,
        "label": "Today At Apple",
        "position": [
         0,
         0
        ],
        "properties": {
         "id": "Today At Apple",
         "label": "Event:__Entity__:Service:Entity"
        },
        "scale_factor": 1,
        "size": [
         55,
         55
        ],
        "styles": {},
        "type": "#F44336"
       },
       {
        "color": "#F44336",
        "id": 78,
        "label": "Group Reservations",
        "position": [
         0,
         0
        ],
        "properties": {
         "id": "Group Reservations",
         "label": "__Entity__:Service:Entity"
        },
        "scale_factor": 1,
        "size": [
         55,
         55
        ],
        "styles": {},
        "type": "#F44336"
       },
       {
        "color": "#F44336",
        "id": 79,
        "label": "Apple Camp",
        "position": [
         0,
         0
        ],
        "properties": {
         "id": "Apple Camp",
         "label": "__Entity__:Service:Entity"
        },
        "scale_factor": 1,
        "size": [
         55,
         55
        ],
        "styles": {},
        "type": "#F44336"
       }
      ],
      "_overview": {
       "enabled": null,
       "overview_set": false
      },
      "_selected_graph": [
       [],
       []
      ],
      "_sidebar": {
       "enabled": false,
       "start_with": null
      },
      "_view_count": null,
      "_view_module": "yfiles-jupyter-graphs",
      "_view_module_version": "^1.9.0",
      "_view_name": "GraphView",
      "layout": "IPY_MODEL_b9ff14e1616447669b2d48e6e7b0aebf",
      "tabbable": null,
      "tooltip": null
     }
    },
    "b9ff14e1616447669b2d48e6e7b0aebf": {
     "model_module": "@jupyter-widgets/base",
     "model_module_version": "2.0.0",
     "model_name": "LayoutModel",
     "state": {
      "_model_module": "@jupyter-widgets/base",
      "_model_module_version": "2.0.0",
      "_model_name": "LayoutModel",
      "_view_count": null,
      "_view_module": "@jupyter-widgets/base",
      "_view_module_version": "2.0.0",
      "_view_name": "LayoutView",
      "align_content": null,
      "align_items": null,
      "align_self": null,
      "border_bottom": null,
      "border_left": null,
      "border_right": null,
      "border_top": null,
      "bottom": null,
      "display": null,
      "flex": null,
      "flex_flow": null,
      "grid_area": null,
      "grid_auto_columns": null,
      "grid_auto_flow": null,
      "grid_auto_rows": null,
      "grid_column": null,
      "grid_gap": null,
      "grid_row": null,
      "grid_template_areas": null,
      "grid_template_columns": null,
      "grid_template_rows": null,
      "height": "800px",
      "justify_content": null,
      "justify_items": null,
      "left": null,
      "margin": null,
      "max_height": null,
      "max_width": null,
      "min_height": null,
      "min_width": null,
      "object_fit": null,
      "object_position": null,
      "order": null,
      "overflow": null,
      "padding": null,
      "right": null,
      "top": null,
      "visibility": null,
      "width": "100%"
     }
    }
   }
  }
 },
 "nbformat": 4,
 "nbformat_minor": 0
}
